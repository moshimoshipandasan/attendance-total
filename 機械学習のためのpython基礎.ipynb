{
  "nbformat": 4,
  "nbformat_minor": 0,
  "metadata": {
    "colab": {
      "name": "機械学習のためのpython基礎.ipynb",
      "provenance": [],
      "collapsed_sections": [],
      "include_colab_link": true
    },
    "language_info": {
      "codemirror_mode": {
        "name": "ipython",
        "version": 3
      },
      "file_extension": ".py",
      "mimetype": "text/x-python",
      "name": "python",
      "nbconvert_exporter": "python",
      "pygments_lexer": "ipython3",
      "version": "3.7.1"
    },
    "kernelspec": {
      "display_name": "Python 3",
      "language": "python",
      "name": "python3"
    },
    "accelerator": "GPU"
  },
  "cells": [
    {
      "cell_type": "markdown",
      "metadata": {
        "id": "view-in-github",
        "colab_type": "text"
      },
      "source": [
        "<a href=\"https://colab.research.google.com/github/moshimoshipandasan/attendance-total/blob/main/%E6%A9%9F%E6%A2%B0%E5%AD%A6%E7%BF%92%E3%81%AE%E3%81%9F%E3%82%81%E3%81%AEpython%E5%9F%BA%E7%A4%8E.ipynb\" target=\"_parent\"><img src=\"https://colab.research.google.com/assets/colab-badge.svg\" alt=\"Open In Colab\"/></a>"
      ]
    },
    {
      "cell_type": "markdown",
      "metadata": {
        "id": "n87LG7KBk-1n"
      },
      "source": [
        "# Pythonの基礎\n",
        "## ディープラーニング基礎講座"
      ]
    },
    {
      "cell_type": "markdown",
      "metadata": {
        "id": "2eS_QEXRk-1r"
      },
      "source": [
        "## 画面に表示する\n",
        "こんにちはと表示するプログラムを作ってみよう"
      ]
    },
    {
      "cell_type": "code",
      "metadata": {
        "id": "RFyAMa6ek-1s"
      },
      "source": [
        ""
      ],
      "execution_count": null,
      "outputs": []
    },
    {
      "cell_type": "markdown",
      "metadata": {
        "id": "WWt_FtHLk-1y"
      },
      "source": [
        "## 四則演算\n",
        "（問）a = 6 , b = ｰ5 , c = 1.5 , d = 10  のとき、問1～問2の計算をしてください。\n",
        "\n",
        "問1 a+b\n",
        "\n",
        "問2\ta-b\n",
        "\n",
        "問3\ta×b×c×d\n",
        "\n",
        "問4\ta÷c÷d"
      ]
    },
    {
      "cell_type": "code",
      "metadata": {
        "id": "CNi36UR7VIF8"
      },
      "source": [
        "a = 6\n",
        "b = -5\n",
        "c = 1.5\n",
        "d = 10"
      ],
      "execution_count": null,
      "outputs": []
    },
    {
      "cell_type": "markdown",
      "source": [
        "解1 a+b"
      ],
      "metadata": {
        "id": "zJmOO8S81mYR"
      }
    },
    {
      "cell_type": "code",
      "source": [
        ""
      ],
      "metadata": {
        "id": "AtwhTWB_1ky0"
      },
      "execution_count": null,
      "outputs": []
    },
    {
      "cell_type": "markdown",
      "source": [
        "解2\ta-b"
      ],
      "metadata": {
        "id": "a657knaj1u4w"
      }
    },
    {
      "cell_type": "code",
      "source": [
        ""
      ],
      "metadata": {
        "id": "rrWD7Nrz1yDw"
      },
      "execution_count": null,
      "outputs": []
    },
    {
      "cell_type": "markdown",
      "source": [
        "解3 a×b×c×d"
      ],
      "metadata": {
        "id": "_2EfRS5T1ytN"
      }
    },
    {
      "cell_type": "code",
      "source": [
        ""
      ],
      "metadata": {
        "id": "ymGpMXX615sh"
      },
      "execution_count": null,
      "outputs": []
    },
    {
      "cell_type": "markdown",
      "source": [
        "解4 a÷c÷d"
      ],
      "metadata": {
        "id": "1q6YwkiR16WB"
      }
    },
    {
      "cell_type": "code",
      "source": [
        ""
      ],
      "metadata": {
        "id": "faYwMQ2E1_cR"
      },
      "execution_count": null,
      "outputs": []
    },
    {
      "cell_type": "markdown",
      "metadata": {
        "id": "VcEyT0tt_2Bh"
      },
      "source": [
        "【問題1】1から9まで順に表示するプログラムを作ってみよう"
      ]
    },
    {
      "cell_type": "code",
      "metadata": {
        "id": "ajLjr_5tD3e8"
      },
      "source": [
        "for i in range(1,10):\n",
        "  print(i)"
      ],
      "execution_count": null,
      "outputs": []
    },
    {
      "cell_type": "markdown",
      "metadata": {
        "id": "Se1McrHtD46Z"
      },
      "source": [
        "【問題2】9から1まで順に表示するプログラムを作ってみよう"
      ]
    },
    {
      "cell_type": "code",
      "source": [
        ""
      ],
      "metadata": {
        "id": "NW01O1Hn5Jea"
      },
      "execution_count": null,
      "outputs": []
    },
    {
      "cell_type": "markdown",
      "source": [
        "##演算規則"
      ],
      "metadata": {
        "id": "q_pjol5F6TM1"
      }
    },
    {
      "cell_type": "code",
      "metadata": {
        "id": "KpR9n5xIk-2f"
      },
      "source": [
        "c = 2"
      ],
      "execution_count": null,
      "outputs": []
    },
    {
      "cell_type": "code",
      "metadata": {
        "id": "zB_p2Jmzk-2i",
        "colab": {
          "base_uri": "https://localhost:8080/"
        },
        "outputId": "7ebf3354-0cd7-4c07-fbbf-92e6cbdd3a8d"
      },
      "source": [
        "c += 1 #二項演算子 c = c + 1 と同じこと\n",
        "print(c)"
      ],
      "execution_count": 89,
      "outputs": [
        {
          "output_type": "stream",
          "name": "stdout",
          "text": [
            "2.5\n"
          ]
        }
      ]
    },
    {
      "cell_type": "code",
      "metadata": {
        "id": "q_e_jj-ak-2k",
        "colab": {
          "base_uri": "https://localhost:8080/"
        },
        "outputId": "9d1ca4b7-cba9-43d8-dce2-5a2b307711f6"
      },
      "source": [
        "d = 6\n",
        "d -= 1 #二項演算子 c = c - 1 と同じこと\n",
        "print(d)"
      ],
      "execution_count": 90,
      "outputs": [
        {
          "output_type": "stream",
          "name": "stdout",
          "text": [
            "5\n"
          ]
        }
      ]
    },
    {
      "cell_type": "code",
      "metadata": {
        "id": "b-5X7-5kk-2n",
        "colab": {
          "base_uri": "https://localhost:8080/"
        },
        "outputId": "0f2eb89e-8eed-4a99-cb32-6e65f50ff808"
      },
      "source": [
        "e = 2**5\n",
        "print(e)"
      ],
      "execution_count": 92,
      "outputs": [
        {
          "output_type": "stream",
          "name": "stdout",
          "text": [
            "32\n"
          ]
        }
      ]
    },
    {
      "cell_type": "code",
      "metadata": {
        "id": "suHv7FaBspmt",
        "colab": {
          "base_uri": "https://localhost:8080/",
          "height": 35
        },
        "outputId": "5a5c9fd5-2b7d-46e5-bff2-fffaa99c387e"
      },
      "source": [
        "f = 4\n",
        "f == 4 #「==」は比較演算子"
      ],
      "execution_count": null,
      "outputs": [
        {
          "output_type": "execute_result",
          "data": {
            "text/plain": [
              "True"
            ]
          },
          "metadata": {
            "tags": []
          },
          "execution_count": 48
        }
      ]
    },
    {
      "cell_type": "markdown",
      "metadata": {
        "id": "QLd3K8qwk-2p"
      },
      "source": [
        "### Pythonでのプログラムの書き方での注意点    \n",
        "Pythonでは字下げ(インデント)がプログラムとして意味を持つ。  \n",
        "意味もなく字下げをするとエラー。"
      ]
    },
    {
      "cell_type": "code",
      "metadata": {
        "id": "3TUA_mr-k-2q",
        "colab": {
          "base_uri": "https://localhost:8080/"
        },
        "outputId": "d3c92616-92c1-4e7a-d6a1-b9b4edc99ad5"
      },
      "source": [
        "x = 1\n",
        "x = x + 1\n",
        "print(x)"
      ],
      "execution_count": null,
      "outputs": [
        {
          "output_type": "stream",
          "text": [
            "2\n"
          ],
          "name": "stdout"
        }
      ]
    },
    {
      "cell_type": "markdown",
      "metadata": {
        "id": "tHijLr-9k-2t"
      },
      "source": [
        "## 文字列型\n",
        "文字列型のデータはシングルクォーテーションあるいはダブルクォーテーションで文字列を囲むことで作成"
      ]
    },
    {
      "cell_type": "code",
      "metadata": {
        "id": "XWt_ab9gk-2u",
        "colab": {
          "base_uri": "https://localhost:8080/"
        },
        "outputId": "d6e18912-1e97-4983-9be9-fe1acd6bc760"
      },
      "source": [
        "a = \"ディープラーニング基礎講座\"\n",
        "b = \"DL基礎講座\"\n",
        "print(a,b)"
      ],
      "execution_count": null,
      "outputs": [
        {
          "output_type": "stream",
          "text": [
            "ディープラーニング基礎講座 DL基礎講座\n"
          ],
          "name": "stdout"
        }
      ]
    },
    {
      "cell_type": "code",
      "metadata": {
        "id": "BNHgBvgCk-2w",
        "colab": {
          "base_uri": "https://localhost:8080/"
        },
        "outputId": "9a3d34cf-42a4-4896-cd53-a562efa7b106"
      },
      "source": [
        "c = 4\n",
        "d = 3\n",
        "c + d #変数の型が違うのでエラー"
      ],
      "execution_count": null,
      "outputs": [
        {
          "output_type": "execute_result",
          "data": {
            "text/plain": [
              "7"
            ]
          },
          "metadata": {
            "tags": []
          },
          "execution_count": 8
        }
      ]
    },
    {
      "cell_type": "markdown",
      "metadata": {
        "id": "fzXv7Yczk-2z"
      },
      "source": [
        "文字列の長さ（文字数）の取得にはlen関数を用いる"
      ]
    },
    {
      "cell_type": "code",
      "metadata": {
        "id": "y2gRqh0Nk-2z",
        "colab": {
          "base_uri": "https://localhost:8080/"
        },
        "outputId": "49cc5eb2-b218-44bc-ca0c-09ad95a20276"
      },
      "source": [
        "a = \"deeplearning\"\n",
        "len(a)"
      ],
      "execution_count": null,
      "outputs": [
        {
          "output_type": "execute_result",
          "data": {
            "text/plain": [
              "12"
            ]
          },
          "metadata": {},
          "execution_count": 75
        }
      ]
    },
    {
      "cell_type": "markdown",
      "metadata": {
        "id": "v99cbUXAk-23"
      },
      "source": [
        "## リスト\n",
        "数値や文字列などを並べて格納できるデータ型。文字や文字列などを、カンマで区切って並べる。<br>かたまりのデータをまとめて扱うときに便利。"
      ]
    },
    {
      "cell_type": "code",
      "metadata": {
        "id": "VRlDX-kFk-24"
      },
      "source": [
        "L = [1,2,3,4]"
      ],
      "execution_count": null,
      "outputs": []
    },
    {
      "cell_type": "code",
      "metadata": {
        "id": "PklvhDKxk-27",
        "colab": {
          "base_uri": "https://localhost:8080/",
          "height": 35
        },
        "outputId": "7a613385-c485-42a8-b5f5-91d66d47b79f"
      },
      "source": [
        "L"
      ],
      "execution_count": null,
      "outputs": [
        {
          "output_type": "execute_result",
          "data": {
            "text/plain": [
              "[1, 2, 3, 4]"
            ]
          },
          "metadata": {
            "tags": []
          },
          "execution_count": 54
        }
      ]
    },
    {
      "cell_type": "code",
      "metadata": {
        "id": "wtNnzyUTk-2-",
        "colab": {
          "base_uri": "https://localhost:8080/",
          "height": 35
        },
        "outputId": "3273a4d7-0b5b-4576-a394-5645fc148701"
      },
      "source": [
        "L[２]"
      ],
      "execution_count": null,
      "outputs": [
        {
          "output_type": "execute_result",
          "data": {
            "text/plain": [
              "2"
            ]
          },
          "metadata": {
            "tags": []
          },
          "execution_count": 55
        }
      ]
    },
    {
      "cell_type": "code",
      "metadata": {
        "id": "zmpsJzA9k-3B",
        "colab": {
          "base_uri": "https://localhost:8080/"
        },
        "outputId": "8a5972b6-f8ea-4cba-b074-700a80e78a18"
      },
      "source": [
        "L[:] #全要素を取得"
      ],
      "execution_count": null,
      "outputs": [
        {
          "output_type": "execute_result",
          "data": {
            "text/plain": [
              "[1, 2, 3, 4]"
            ]
          },
          "metadata": {
            "tags": []
          },
          "execution_count": 17
        }
      ]
    },
    {
      "cell_type": "code",
      "metadata": {
        "id": "kSGHLT5Ck8Al"
      },
      "source": [
        ""
      ],
      "execution_count": null,
      "outputs": []
    },
    {
      "cell_type": "code",
      "metadata": {
        "id": "Tv7lRxwzk-3E"
      },
      "source": [
        "L[2]=888888 #3番目の要素を変更"
      ],
      "execution_count": null,
      "outputs": []
    },
    {
      "cell_type": "code",
      "metadata": {
        "id": "ChilsuKtk-3G",
        "colab": {
          "base_uri": "https://localhost:8080/"
        },
        "outputId": "97f2daa4-a97e-41ce-c1ee-cfa6c4871ae5"
      },
      "source": [
        "L"
      ],
      "execution_count": null,
      "outputs": [
        {
          "output_type": "execute_result",
          "data": {
            "text/plain": [
              "[1, 2, 888888, 4]"
            ]
          },
          "metadata": {
            "tags": []
          },
          "execution_count": 19
        }
      ]
    },
    {
      "cell_type": "code",
      "metadata": {
        "id": "YQX2nZ2Rk-3I",
        "colab": {
          "base_uri": "https://localhost:8080/"
        },
        "outputId": "a7da4b4e-61b3-447c-f55f-f802fd151dd2"
      },
      "source": [
        "L.append(7777777) #リストの末尾に30を追加\n",
        "print(L)"
      ],
      "execution_count": null,
      "outputs": [
        {
          "output_type": "stream",
          "text": [
            "[1, 2, 888888, 4, 7777777]\n"
          ],
          "name": "stdout"
        }
      ]
    },
    {
      "cell_type": "markdown",
      "metadata": {
        "id": "VFoCwJiRCo9b"
      },
      "source": [
        "*【問題3】*\n",
        "L =[2,4,6,1,7,8,9,0,4,5]\n",
        "に対して、リストの要素をひとつずつ書き出すプログラムを書きなさい。"
      ]
    },
    {
      "cell_type": "code",
      "metadata": {
        "id": "SoK6FD5vEgIW"
      },
      "source": [
        "L =[2,4,6,1,7,8,9,0,4,5] \n",
        "print(L[0])\n",
        "print(L[1])\n",
        "print(L[2])\n",
        "print(L[3])\n",
        "print(L[4])\n",
        "print(L[5])\n",
        "print(L[6])\n",
        "print(L[7])\n",
        "print(L[8])\n",
        "print(L[9])\n",
        "\n",
        "n = len(L)\n",
        "for i in range(n):\n",
        "  print(L[i])\n",
        "\n",
        "\n",
        "for i in L:\n",
        "  print(L[i])"
      ],
      "execution_count": null,
      "outputs": []
    },
    {
      "cell_type": "markdown",
      "metadata": {
        "id": "g3BA-xxGk-3K"
      },
      "source": [
        "リストのスライス<br>\n",
        "「仕切り」を考えるとわかりやすい。"
      ]
    },
    {
      "cell_type": "code",
      "metadata": {
        "id": "-XQR06c0k-3L",
        "colab": {
          "base_uri": "https://localhost:8080/"
        },
        "outputId": "d41bee5c-d73c-4cfa-e724-e99facdb1ef8"
      },
      "source": [
        "profs = [\"櫻井翔\",\"松本潤\",\"大野智\",\"相葉雅紀\",\"二宮和也\"]\n",
        "print(profs[1:4])\n",
        "print(profs[1:3])\n",
        "print(profs[2:2])"
      ],
      "execution_count": null,
      "outputs": [
        {
          "output_type": "stream",
          "text": [
            "['松本潤', '大野智', '相葉雅紀']\n",
            "['松本潤', '大野智']\n",
            "[]\n"
          ],
          "name": "stdout"
        }
      ]
    },
    {
      "cell_type": "markdown",
      "metadata": {
        "id": "I__-eqKLk-3N"
      },
      "source": [
        "## 辞書型 \n",
        "辞書では、見出し語 (キー) と対応する要素である 値(value)を紐づけて対応関係を管理。"
      ]
    },
    {
      "cell_type": "code",
      "metadata": {
        "id": "OwUmF-rFk-3O",
        "colab": {
          "base_uri": "https://localhost:8080/"
        },
        "outputId": "87660b97-666c-4317-f15b-99d6fb181ae3"
      },
      "source": [
        "data = {'恐竜':'大きい',\"幽霊\":\"怖い\"}\n",
        "print(data1)"
      ],
      "execution_count": null,
      "outputs": [
        {
          "output_type": "stream",
          "name": "stdout",
          "text": [
            "{'恐竜': '大きい', '幽霊': '怖い'}\n"
          ]
        }
      ]
    },
    {
      "cell_type": "code",
      "metadata": {
        "id": "Eifq-wbek-3Q",
        "colab": {
          "base_uri": "https://localhost:8080/",
          "height": 54
        },
        "outputId": "da6b91bb-c335-406e-ecf8-3bb18085c00e"
      },
      "source": [
        "val = input()\n",
        "data[val] #キーで参照"
      ],
      "execution_count": null,
      "outputs": [
        {
          "name": "stdout",
          "output_type": "stream",
          "text": [
            "幽霊\n"
          ]
        },
        {
          "output_type": "execute_result",
          "data": {
            "application/vnd.google.colaboratory.intrinsic+json": {
              "type": "string"
            },
            "text/plain": [
              "'怖い'"
            ]
          },
          "metadata": {},
          "execution_count": 12
        }
      ]
    },
    {
      "cell_type": "markdown",
      "metadata": {
        "id": "aEkJG2Qrk-3S"
      },
      "source": [
        "## タプル型"
      ]
    },
    {
      "cell_type": "code",
      "metadata": {
        "id": "iqxe6U26k-3T"
      },
      "source": [
        "a = (1,2,3,4)"
      ],
      "execution_count": null,
      "outputs": []
    },
    {
      "cell_type": "code",
      "metadata": {
        "id": "r0MpB7Iyk-3U",
        "colab": {
          "base_uri": "https://localhost:8080/",
          "height": 35
        },
        "outputId": "f1c408e3-20f1-4a77-b959-6200dbd1c0fc"
      },
      "source": [
        "a"
      ],
      "execution_count": null,
      "outputs": [
        {
          "output_type": "stream",
          "text": [
            "(1, 2, 3, 4)\n"
          ],
          "name": "stdout"
        }
      ]
    },
    {
      "cell_type": "code",
      "metadata": {
        "id": "yT53c0-tk-3Z",
        "colab": {
          "base_uri": "https://localhost:8080/",
          "height": 35
        },
        "outputId": "945405e3-6f5e-4917-edfa-ededc3b8784e"
      },
      "source": [
        "print(a[0])"
      ],
      "execution_count": null,
      "outputs": [
        {
          "output_type": "stream",
          "text": [
            "1\n"
          ],
          "name": "stdout"
        }
      ]
    },
    {
      "cell_type": "markdown",
      "metadata": {
        "id": "cNOfvZVpk-3b"
      },
      "source": [
        "リスト型との違いはイミュータブル（変更不可能）である点。<br>\n",
        "変更されたら困るデータを管理するのに便利。"
      ]
    },
    {
      "cell_type": "code",
      "metadata": {
        "id": "t4fHN0w1k-3b",
        "colab": {
          "base_uri": "https://localhost:8080/",
          "height": 173
        },
        "outputId": "4b7e4631-8723-4bf9-f01d-081e1c54d129"
      },
      "source": [
        "a[1]=10"
      ],
      "execution_count": null,
      "outputs": [
        {
          "output_type": "error",
          "ename": "TypeError",
          "evalue": "ignored",
          "traceback": [
            "\u001b[0;31m---------------------------------------------------------------------------\u001b[0m",
            "\u001b[0;31mTypeError\u001b[0m                                 Traceback (most recent call last)",
            "\u001b[0;32m<ipython-input-68-2cd8b0243cd9>\u001b[0m in \u001b[0;36m<module>\u001b[0;34m()\u001b[0m\n\u001b[0;32m----> 1\u001b[0;31m \u001b[0ma\u001b[0m\u001b[0;34m[\u001b[0m\u001b[0;36m1\u001b[0m\u001b[0;34m]\u001b[0m\u001b[0;34m=\u001b[0m\u001b[0;36m10\u001b[0m\u001b[0;34m\u001b[0m\u001b[0;34m\u001b[0m\u001b[0m\n\u001b[0m",
            "\u001b[0;31mTypeError\u001b[0m: 'tuple' object does not support item assignment"
          ]
        }
      ]
    },
    {
      "cell_type": "markdown",
      "metadata": {
        "id": "-d-rSO-vk-3e"
      },
      "source": [
        "## 制御構造"
      ]
    },
    {
      "cell_type": "code",
      "metadata": {
        "id": "Z6pV10shk-3g",
        "colab": {
          "base_uri": "https://localhost:8080/"
        },
        "outputId": "fb52c5fb-769c-4c27-b729-74c1f4a0ef87"
      },
      "source": [
        "age = int(input())\n",
        "\n",
        "if age >= 20:\n",
        "  print('20歳以上だね')\n",
        "else:\n",
        "  print('未成年だね')"
      ],
      "execution_count": null,
      "outputs": [
        {
          "output_type": "stream",
          "name": "stdout",
          "text": [
            "10\n",
            "未成年だね\n"
          ]
        }
      ]
    },
    {
      "cell_type": "code",
      "metadata": {
        "id": "Q5aMxQg0y77Q",
        "colab": {
          "base_uri": "https://localhost:8080/"
        },
        "outputId": "226d9e3e-4122-4339-9e0d-9d13572d3bb2"
      },
      "source": [
        "kata = int(input())\n",
        "\n",
        "if kata == 1:\n",
        "    print('水面斬り（みなもぎり）')\n",
        "elif kata == 2:\n",
        "    print('水車（みずぐるま）')\n",
        "elif kata == 3:\n",
        "    print('流流舞い（りゅうりゅうまい）')\n",
        "elif kata == 4:\n",
        "    print('打ち潮（うちしお）')\n",
        "elif kata == 5:\n",
        "    print('干天の慈雨（かんてんのじう）')\n",
        "elif kata == 6:\n",
        "    print('ねじれ渦（ねじれうず）')\n",
        "elif kata == 7:\n",
        "    print('雫波紋突き・曲（しずくはもんづき・きょく）')\n",
        "elif kata == 8:\n",
        "    print('滝壺（たきつぼ）')\n",
        "elif kata == 9:\n",
        "    print('水流飛沫・乱（すいりゅうしぶき・らん）')\n",
        "elif kata == 10:\n",
        "    print('生生流天（せいせいるてん）')\n",
        "elif kata == 11:\n",
        "    print('凪（なぎ）')\n",
        "else:\n",
        "    print('まだ未収得の技だね')"
      ],
      "execution_count": null,
      "outputs": [
        {
          "output_type": "stream",
          "name": "stdout",
          "text": [
            "11\n",
            "凪（なぎ）\n"
          ]
        }
      ]
    },
    {
      "cell_type": "markdown",
      "metadata": {
        "id": "dt2tF8N6vbGG"
      },
      "source": [
        "問題　水の呼吸の型の表示プログラムをリストまたは辞書を使って作りましょう。"
      ]
    },
    {
      "cell_type": "code",
      "metadata": {
        "id": "GHx_DiFmvvy4",
        "colab": {
          "base_uri": "https://localhost:8080/",
          "height": 54
        },
        "outputId": "cade41c4-7c76-419d-f2cf-cd5755a6f857"
      },
      "source": [
        "waza = ['水面斬り（みなもぎり）','水車（みずぐるま）','流流舞い（りゅうりゅうまい）','打ち潮（うちしお）','干天の慈雨（かんてんのじう）','ねじれ渦（ねじれうず）','雫波紋突き・曲（しずくはもんづき・きょく）','滝壺（たきつぼ）','水流飛沫・乱（すいりゅうしぶき・らん）','生生流天（せいせいるてん）','凪（なぎ）','まだ技を習得してないね']\n",
        "kata = int(input())\n",
        "waza[kata - 1]"
      ],
      "execution_count": null,
      "outputs": [
        {
          "name": "stdout",
          "output_type": "stream",
          "text": [
            "11\n"
          ]
        },
        {
          "output_type": "execute_result",
          "data": {
            "application/vnd.google.colaboratory.intrinsic+json": {
              "type": "string"
            },
            "text/plain": [
              "'凪（なぎ）'"
            ]
          },
          "metadata": {},
          "execution_count": 16
        }
      ]
    },
    {
      "cell_type": "markdown",
      "metadata": {
        "id": "wYlzSxfCk-3i"
      },
      "source": [
        "for文による繰り返し"
      ]
    },
    {
      "cell_type": "code",
      "metadata": {
        "id": "svLdaonsk-3j",
        "colab": {
          "base_uri": "https://localhost:8080/"
        },
        "outputId": "7e663e8b-adf6-4a33-94f8-00c92e63a7d9"
      },
      "source": [
        "for i in range(1,11): #0から数えて５回繰り返し\n",
        "  print(i)"
      ],
      "execution_count": null,
      "outputs": [
        {
          "output_type": "stream",
          "name": "stdout",
          "text": [
            "1\n",
            "2\n",
            "3\n",
            "4\n",
            "5\n",
            "6\n",
            "7\n",
            "8\n",
            "9\n",
            "10\n"
          ]
        }
      ]
    },
    {
      "cell_type": "markdown",
      "metadata": {
        "id": "NWosp-DYk-3l"
      },
      "source": [
        "## 関数定義\n",
        "自分の関数を作っちゃおう。defで定義の宣言。"
      ]
    },
    {
      "cell_type": "code",
      "metadata": {
        "id": "UQIiTDMkk-3n"
      },
      "source": [
        "def f(x,y):\n",
        "  return x**2 + y**2 # 戻り値を返す"
      ],
      "execution_count": null,
      "outputs": []
    },
    {
      "cell_type": "code",
      "metadata": {
        "id": "Ixur-fo_k-3o",
        "colab": {
          "base_uri": "https://localhost:8080/"
        },
        "outputId": "3c78268d-dece-40ba-fe17-e66177a2b274"
      },
      "source": [
        "print(f(10,20))"
      ],
      "execution_count": null,
      "outputs": [
        {
          "output_type": "stream",
          "name": "stdout",
          "text": [
            "500\n"
          ]
        }
      ]
    },
    {
      "cell_type": "markdown",
      "metadata": {
        "id": "qJgPE0RHxg3S"
      },
      "source": [
        "関数 y = 2x+3 の関数を作れ"
      ]
    },
    {
      "cell_type": "code",
      "metadata": {
        "id": "IG_syQPUxtsj"
      },
      "source": [
        "def f(x):\n",
        "  return 2*x+3"
      ],
      "execution_count": null,
      "outputs": []
    },
    {
      "cell_type": "code",
      "metadata": {
        "colab": {
          "base_uri": "https://localhost:8080/"
        },
        "id": "PzNnTAIry5jK",
        "outputId": "454c0329-6b42-45fe-f85d-68bb33e221df"
      },
      "source": [
        "f(2)"
      ],
      "execution_count": null,
      "outputs": [
        {
          "output_type": "execute_result",
          "data": {
            "text/plain": [
              "7"
            ]
          },
          "metadata": {
            "tags": []
          },
          "execution_count": 30
        }
      ]
    },
    {
      "cell_type": "markdown",
      "metadata": {
        "id": "nc-JGMFzzB9R"
      },
      "source": [
        "関数 y = 2xの２乗の関数を作れ"
      ]
    },
    {
      "cell_type": "code",
      "metadata": {
        "id": "fClhrgcqzfd2"
      },
      "source": [
        "def f(x):\n",
        "  return 2*x**2"
      ],
      "execution_count": null,
      "outputs": []
    },
    {
      "cell_type": "code",
      "metadata": {
        "colab": {
          "base_uri": "https://localhost:8080/"
        },
        "id": "5L9J0B7U1QDp",
        "outputId": "1f6af48d-217a-43aa-f722-d59f993e68a0"
      },
      "source": [
        "f(1)"
      ],
      "execution_count": null,
      "outputs": [
        {
          "output_type": "execute_result",
          "data": {
            "text/plain": [
              "2"
            ]
          },
          "metadata": {
            "tags": []
          },
          "execution_count": 3
        }
      ]
    },
    {
      "cell_type": "markdown",
      "metadata": {
        "id": "YGB7qxUb0Gng"
      },
      "source": [
        "nを3で割った余りの関数を作れ\n"
      ]
    },
    {
      "cell_type": "code",
      "metadata": {
        "id": "7uotyqHX0ToF"
      },
      "source": [
        "def f(n):\n",
        "  return n%3"
      ],
      "execution_count": null,
      "outputs": []
    },
    {
      "cell_type": "code",
      "metadata": {
        "colab": {
          "base_uri": "https://localhost:8080/"
        },
        "id": "wFrU8Ro61paV",
        "outputId": "b16c909d-4c7d-4954-faa1-6ab5429a74eb"
      },
      "source": [
        "n = int(input())\n",
        "f(n)"
      ],
      "execution_count": null,
      "outputs": [
        {
          "output_type": "stream",
          "text": [
            "3\n"
          ],
          "name": "stdout"
        },
        {
          "output_type": "execute_result",
          "data": {
            "text/plain": [
              "0"
            ]
          },
          "metadata": {
            "tags": []
          },
          "execution_count": 40
        }
      ]
    },
    {
      "cell_type": "markdown",
      "metadata": {
        "id": "y3IVjCy64y2g"
      },
      "source": [
        "##FizzBuzz問題\n",
        "3の倍数で’Fizz'、5の倍数で'Buzz'、3と5の公倍数で'FizzBuzz'、\n",
        "それ以外の数でそのまま数を表示させるプログラムをつくってみよう\n",
        "\n"
      ]
    },
    {
      "cell_type": "code",
      "metadata": {
        "id": "24BL3qKEUivq",
        "colab": {
          "base_uri": "https://localhost:8080/",
          "height": 557
        },
        "outputId": "36a1bb9b-8e1a-48e4-b770-5b837a582311"
      },
      "source": [
        "for i in range(1,31):\n",
        "  if i%3 == 0 and i%5==0:\n",
        "    print('FizzBuzz')\n",
        "  elif i%3 == 0:\n",
        "    print('Fizz')\n",
        "  elif i%5 == 0:\n",
        "    print('Buzz')\n",
        "  else:\n",
        "    print(i)"
      ],
      "execution_count": null,
      "outputs": [
        {
          "output_type": "stream",
          "text": [
            "1\n",
            "2\n",
            "Fizz\n",
            "4\n",
            "Buzz\n",
            "Fizz\n",
            "7\n",
            "8\n",
            "Fizz\n",
            "Buzz\n",
            "11\n",
            "Fizz\n",
            "13\n",
            "14\n",
            "FizzBuzz\n",
            "16\n",
            "17\n",
            "Fizz\n",
            "19\n",
            "Buzz\n",
            "Fizz\n",
            "22\n",
            "23\n",
            "Fizz\n",
            "Buzz\n",
            "26\n",
            "Fizz\n",
            "28\n",
            "29\n",
            "FizzBuzz\n"
          ],
          "name": "stdout"
        }
      ]
    },
    {
      "cell_type": "markdown",
      "metadata": {
        "id": "Brq6cxszVTu5"
      },
      "source": [
        "#FizzBuzz課題1\n",
        "引数に数字を入れると、上記のFizzBuzzのルールで数字が表示される関数を作ろう。\n",
        "また実際にその関数で表示を確かめてみよう。"
      ]
    },
    {
      "cell_type": "code",
      "metadata": {
        "id": "KCs_1sreXJm8"
      },
      "source": [
        "def FizzBuzz(i):\n",
        "  if i%3 == 0 and i%5==0:\n",
        "    print('FizzBuzz')\n",
        "  elif i%3 == 0:\n",
        "    print('Fizz')\n",
        "  elif i%5 == 0:\n",
        "    print('Buzz')\n",
        "  else:\n",
        "    print(i)"
      ],
      "execution_count": null,
      "outputs": []
    },
    {
      "cell_type": "code",
      "metadata": {
        "id": "mjQLKgTyXpcN",
        "colab": {
          "base_uri": "https://localhost:8080/"
        },
        "outputId": "0406fdc5-1c50-4806-b4b0-73c16533d617"
      },
      "source": [
        "FizzBuzz(5)"
      ],
      "execution_count": null,
      "outputs": [
        {
          "output_type": "stream",
          "text": [
            "Buzz\n"
          ],
          "name": "stdout"
        }
      ]
    },
    {
      "cell_type": "code",
      "metadata": {
        "id": "ctT_l4V4XsMr",
        "colab": {
          "base_uri": "https://localhost:8080/",
          "height": 35
        },
        "outputId": "1e13bb04-d5c7-49fe-d4ec-389cc8a5237c"
      },
      "source": [
        "FizzBuzz(15)"
      ],
      "execution_count": null,
      "outputs": [
        {
          "output_type": "stream",
          "text": [
            "FizzBuzz\n"
          ],
          "name": "stdout"
        }
      ]
    },
    {
      "cell_type": "markdown",
      "metadata": {
        "id": "J0WHdSWvwcc9"
      },
      "source": [
        "#FizzBuzz課題2\n",
        "変数nに数字を入力すると、上記のFizzBuzzのルールで数字が表示されるプログラムを作ろう。"
      ]
    },
    {
      "cell_type": "code",
      "metadata": {
        "id": "wjDVZpQlw-B1"
      },
      "source": [
        ""
      ],
      "execution_count": null,
      "outputs": []
    },
    {
      "cell_type": "markdown",
      "metadata": {
        "id": "pGqtsaVDk-3q"
      },
      "source": [
        "## モジュール\n",
        "Pythonは関数のような機能をまとめ、必要な時に読み込んで使える**モジュール**という仕組みを持っています。\n",
        "\n",
        "ここまでで使った関数はPythonに内蔵されているいつでも使える関数で、これらを**組み込み関数**と呼びます。  \n",
        "http://docs.python.jp/3/library/functions.html  にその一覧があります。<br>\n",
        "\n",
        "一方、限られた用途で使うものはモジュールから読み込むことで使えるようになります。<br>\n",
        "Pythonにはこの便利なモジュールがたくさん付属しているのですが、このPythonに付属のモジュールの集合体のことを**標準ライブラリ**といいます。<br>\n",
        "Anacondaには標準ライブラリの他にも便利なライブラリが付属しています。\n",
        " "
      ]
    },
    {
      "cell_type": "code",
      "metadata": {
        "id": "NGn7z9R0k-3q"
      },
      "source": [
        "import math #mathモジュールを読みこむ（インポート）"
      ],
      "execution_count": null,
      "outputs": []
    },
    {
      "cell_type": "code",
      "metadata": {
        "id": "lTaN7neWk-3s",
        "colab": {
          "base_uri": "https://localhost:8080/"
        },
        "outputId": "62cae4e4-85b7-46e8-f5b4-c8577ffcefe6"
      },
      "source": [
        "math.cos(0) "
      ],
      "execution_count": null,
      "outputs": [
        {
          "output_type": "execute_result",
          "data": {
            "text/plain": [
              "1.0"
            ]
          },
          "metadata": {},
          "execution_count": 22
        }
      ]
    },
    {
      "cell_type": "code",
      "metadata": {
        "id": "iyeAywVoyU7v",
        "colab": {
          "base_uri": "https://localhost:8080/"
        },
        "outputId": "dc6777bb-31b5-49b0-ec5d-07e2079952f6"
      },
      "source": [
        "import math\n",
        "\n",
        "# 円周率の近似値\n",
        "x = math.pi\n",
        "print(x)"
      ],
      "execution_count": null,
      "outputs": [
        {
          "output_type": "stream",
          "name": "stdout",
          "text": [
            "3.141592653589793\n"
          ]
        }
      ]
    },
    {
      "cell_type": "markdown",
      "metadata": {
        "id": "N295mkp4k-3y"
      },
      "source": [
        "**モジュール名.関数名**  のようにモジュール名と関数名を. でつなげて使う\n"
      ]
    },
    {
      "cell_type": "code",
      "metadata": {
        "id": "YDe3bKpIulLg"
      },
      "source": [
        "import numpy as np #NumPyモジュールをnpという名前でインポート"
      ],
      "execution_count": null,
      "outputs": []
    },
    {
      "cell_type": "markdown",
      "metadata": {
        "id": "QBFJTQLa56f5"
      },
      "source": [
        "円周率πは"
      ]
    },
    {
      "cell_type": "code",
      "metadata": {
        "id": "4nTDjNs06Acl",
        "colab": {
          "base_uri": "https://localhost:8080/"
        },
        "outputId": "5b141862-b7ea-4229-91f0-b5defac9bc37"
      },
      "source": [
        "np.pi"
      ],
      "execution_count": null,
      "outputs": [
        {
          "output_type": "execute_result",
          "data": {
            "text/plain": [
              "3.141592653589793"
            ]
          },
          "metadata": {},
          "execution_count": 25
        }
      ]
    },
    {
      "cell_type": "markdown",
      "metadata": {
        "id": "802b25QS6EjN"
      },
      "source": [
        "cos(180°)は"
      ]
    },
    {
      "cell_type": "code",
      "metadata": {
        "id": "Mm2eXCEGvCKS",
        "colab": {
          "base_uri": "https://localhost:8080/"
        },
        "outputId": "bd97c7b9-16fd-45dc-ffcf-b8735f584a2e"
      },
      "source": [
        "math.cos(np.pi)"
      ],
      "execution_count": null,
      "outputs": [
        {
          "output_type": "execute_result",
          "data": {
            "text/plain": [
              "-1.0"
            ]
          },
          "metadata": {},
          "execution_count": 26
        }
      ]
    },
    {
      "cell_type": "markdown",
      "metadata": {
        "id": "2G3PRdtlk-3y"
      },
      "source": [
        "## 機械学習・ディープラーニングでよく使うライブラリ\n",
        "Tensorflow、Keras 以外にも<br>\n",
        "numpy ： 数値計算<br>\n",
        "matplotlib : グラフの描画<br>\n",
        "他にもscipy、pandas、など"
      ]
    },
    {
      "cell_type": "code",
      "metadata": {
        "id": "LxGNgwo3k-3z"
      },
      "source": [
        "import numpy as np #NumPyモジュールをnpという名前でインポート"
      ],
      "execution_count": null,
      "outputs": []
    },
    {
      "cell_type": "markdown",
      "metadata": {
        "id": "FXtc1DLRk-30"
      },
      "source": [
        "## numpyでベクトルや行列の計算"
      ]
    },
    {
      "cell_type": "code",
      "metadata": {
        "id": "MdXsVRI2k-30"
      },
      "source": [
        "arr1 = np.array([1,4,3])\n",
        "#(1,3)行列"
      ],
      "execution_count": null,
      "outputs": []
    },
    {
      "cell_type": "code",
      "metadata": {
        "id": "Q8wGFSmrk-32",
        "colab": {
          "base_uri": "https://localhost:8080/"
        },
        "outputId": "6f2b1c59-94f9-4c22-dc62-3cdfd9a157a7"
      },
      "source": [
        "arr1"
      ],
      "execution_count": null,
      "outputs": [
        {
          "output_type": "execute_result",
          "data": {
            "text/plain": [
              "array([1, 4, 3])"
            ]
          },
          "metadata": {},
          "execution_count": 62
        }
      ]
    },
    {
      "cell_type": "code",
      "metadata": {
        "id": "MZpDknz5k-35",
        "colab": {
          "base_uri": "https://localhost:8080/"
        },
        "outputId": "6c0a5bf1-83b4-40e0-fd11-542637a985b3"
      },
      "source": [
        "arr1[2]\n",
        "#要素の取得"
      ],
      "execution_count": null,
      "outputs": [
        {
          "output_type": "execute_result",
          "data": {
            "text/plain": [
              "3"
            ]
          },
          "metadata": {},
          "execution_count": 65
        }
      ]
    },
    {
      "cell_type": "code",
      "metadata": {
        "id": "zxgCaqwvk-37"
      },
      "source": [
        "arr2 = np.array([[1,2,3],\n",
        "                 [4,5,6]])\n",
        "#(2,3)行列"
      ],
      "execution_count": null,
      "outputs": []
    },
    {
      "cell_type": "code",
      "metadata": {
        "id": "LjB4eYtpk-38",
        "colab": {
          "base_uri": "https://localhost:8080/"
        },
        "outputId": "06cc6a5e-7211-46ef-e087-5dc1cfb1604f"
      },
      "source": [
        "arr2[1,1] #要素の取得"
      ],
      "execution_count": null,
      "outputs": [
        {
          "output_type": "execute_result",
          "data": {
            "text/plain": [
              "5"
            ]
          },
          "metadata": {},
          "execution_count": 32
        }
      ]
    },
    {
      "cell_type": "code",
      "metadata": {
        "id": "OBvUHkANk-3-",
        "colab": {
          "base_uri": "https://localhost:8080/"
        },
        "outputId": "064de01c-292c-49d1-fb09-31a0fb566094"
      },
      "source": [
        "arr2.shape"
      ],
      "execution_count": null,
      "outputs": [
        {
          "output_type": "execute_result",
          "data": {
            "text/plain": [
              "(2, 3)"
            ]
          },
          "metadata": {},
          "execution_count": 33
        }
      ]
    },
    {
      "cell_type": "code",
      "metadata": {
        "id": "_wVQYEcEk-4A",
        "colab": {
          "base_uri": "https://localhost:8080/"
        },
        "outputId": "4966142b-8593-4f68-8748-8eefd76951f7"
      },
      "source": [
        "arr1 + arr2 #行列の足し算"
      ],
      "execution_count": null,
      "outputs": [
        {
          "output_type": "execute_result",
          "data": {
            "text/plain": [
              "array([[2, 6, 6],\n",
              "       [5, 9, 9]])"
            ]
          },
          "metadata": {},
          "execution_count": 34
        }
      ]
    },
    {
      "cell_type": "markdown",
      "metadata": {
        "id": "fGnpsJeZk-4C"
      },
      "source": [
        "dot関数で行列の積を計算してみましょう"
      ]
    },
    {
      "cell_type": "code",
      "metadata": {
        "id": "9dy6l-0dk-4C",
        "colab": {
          "base_uri": "https://localhost:8080/"
        },
        "outputId": "a547a972-6967-43a3-f576-043fb4282a0c"
      },
      "source": [
        "a = np.array([[1,2],[3,4]])\n",
        "b = np.array([[5,6],[7,8]])\n",
        "np.dot(a,b)"
      ],
      "execution_count": null,
      "outputs": [
        {
          "output_type": "execute_result",
          "data": {
            "text/plain": [
              "array([[19, 22],\n",
              "       [43, 50]])"
            ]
          },
          "metadata": {},
          "execution_count": 35
        }
      ]
    },
    {
      "cell_type": "markdown",
      "metadata": {
        "id": "HoO3Z-Vok-4G"
      },
      "source": [
        "ちなみにさっきの行列（arr1,arr2）は、、"
      ]
    },
    {
      "cell_type": "code",
      "source": [
        "arr3 = np.array([[1],[4],[3]])\n",
        "#(3,1)行列"
      ],
      "metadata": {
        "id": "fhA10R8jz31k"
      },
      "execution_count": null,
      "outputs": []
    },
    {
      "cell_type": "code",
      "metadata": {
        "id": "MIHvzvJkk-4G",
        "colab": {
          "base_uri": "https://localhost:8080/"
        },
        "outputId": "e4063682-7fa5-4bd4-d091-7bca0d9f304f"
      },
      "source": [
        "np.dot(arr2,arr3) "
      ],
      "execution_count": null,
      "outputs": [
        {
          "output_type": "execute_result",
          "data": {
            "text/plain": [
              "array([[18],\n",
              "       [42]])"
            ]
          },
          "metadata": {},
          "execution_count": 73
        }
      ]
    },
    {
      "cell_type": "markdown",
      "metadata": {
        "id": "i6DP9e7xk-4I"
      },
      "source": [
        "## matplotlibでグラフ描画"
      ]
    },
    {
      "cell_type": "markdown",
      "metadata": {
        "id": "sKUE3L5JluFy"
      },
      "source": [
        "直線を描いてみよう"
      ]
    },
    {
      "cell_type": "code",
      "metadata": {
        "id": "wmEDpReIlwwx",
        "colab": {
          "base_uri": "https://localhost:8080/",
          "height": 265
        },
        "outputId": "c332fd5f-0075-4e51-df57-b10dbf4c5f77"
      },
      "source": [
        "import matplotlib.pyplot as plt\n",
        "import numpy as np\n",
        "\n",
        "x = np.linspace(0,10,100) #変数xにNumPyの関数linspaceを使用し0から10までの数字を100分割したものを代入\n",
        "y = x\n",
        "\n",
        "plt.plot(x,y)\n",
        "plt.show()"
      ],
      "execution_count": null,
      "outputs": [
        {
          "output_type": "display_data",
          "data": {
            "image/png": "[encoded data removed]",
            "text/plain": [
              "<Figure size 432x288 with 1 Axes>"
            ]
          },
          "metadata": {
            "needs_background": "light"
          }
        }
      ]
    },
    {
      "cell_type": "markdown",
      "metadata": {
        "id": "XmwBh_84l1Cv"
      },
      "source": [
        "2次曲線を描いてみよう\n",
        "\n",
        "まずは日本語化"
      ]
    },
    {
      "cell_type": "code",
      "metadata": {
        "id": "xgoDmK_kJRPs",
        "colab": {
          "base_uri": "https://localhost:8080/"
        },
        "outputId": "ba584052-e83f-44c9-a276-30a325414452"
      },
      "source": [
        "!pip install japanize-matplotlib"
      ],
      "execution_count": null,
      "outputs": [
        {
          "output_type": "stream",
          "name": "stdout",
          "text": [
            "Collecting japanize-matplotlib\n",
            "  Downloading japanize-matplotlib-1.1.3.tar.gz (4.1 MB)\n",
            "\u001b[K     |████████████████████████████████| 4.1 MB 12.2 MB/s \n",
            "\u001b[?25hRequirement already satisfied: matplotlib in /usr/local/lib/python3.7/dist-packages (from japanize-matplotlib) (3.2.2)\n",
            "Requirement already satisfied: kiwisolver>=1.0.1 in /usr/local/lib/python3.7/dist-packages (from matplotlib->japanize-matplotlib) (1.3.2)\n",
            "Requirement already satisfied: python-dateutil>=2.1 in /usr/local/lib/python3.7/dist-packages (from matplotlib->japanize-matplotlib) (2.8.2)\n",
            "Requirement already satisfied: pyparsing!=2.0.4,!=2.1.2,!=2.1.6,>=2.0.1 in /usr/local/lib/python3.7/dist-packages (from matplotlib->japanize-matplotlib) (3.0.6)\n",
            "Requirement already satisfied: cycler>=0.10 in /usr/local/lib/python3.7/dist-packages (from matplotlib->japanize-matplotlib) (0.11.0)\n",
            "Requirement already satisfied: numpy>=1.11 in /usr/local/lib/python3.7/dist-packages (from matplotlib->japanize-matplotlib) (1.19.5)\n",
            "Requirement already satisfied: six>=1.5 in /usr/local/lib/python3.7/dist-packages (from python-dateutil>=2.1->matplotlib->japanize-matplotlib) (1.15.0)\n",
            "Building wheels for collected packages: japanize-matplotlib\n",
            "  Building wheel for japanize-matplotlib (setup.py) ... \u001b[?25l\u001b[?25hdone\n",
            "  Created wheel for japanize-matplotlib: filename=japanize_matplotlib-1.1.3-py3-none-any.whl size=4120275 sha256=ded8f08537243331436cf9f9f9aee1f21d96f0f8e15076e4d635821211c66108\n",
            "  Stored in directory: /root/.cache/pip/wheels/83/97/6b/e9e0cde099cc40f972b8dd23367308f7705ae06cd6d4714658\n",
            "Successfully built japanize-matplotlib\n",
            "Installing collected packages: japanize-matplotlib\n",
            "Successfully installed japanize-matplotlib-1.1.3\n"
          ]
        }
      ]
    },
    {
      "cell_type": "code",
      "metadata": {
        "id": "nm-voZApk-4J",
        "colab": {
          "base_uri": "https://localhost:8080/",
          "height": 278
        },
        "outputId": "b47c8028-cf8b-4090-aa25-7a6a70b09424"
      },
      "source": [
        "import numpy as np\n",
        "import matplotlib.pyplot as plt\n",
        "import japanize_matplotlib\n",
        "\n",
        "x = np.linspace(-5,5,300) #変数xにNumPyの関数linspaceを使用し-5から5までの数字を300分割したものを代入\n",
        "y = 3 * x + 5\n",
        "\n",
        "plt.plot(x,y,color = \"r\")\n",
        "plt.xlabel('簡単なグラフ')\n",
        "plt.show()"
      ],
      "execution_count": null,
      "outputs": [
        {
          "output_type": "display_data",
          "data": {
            "image/png": "[encoded data removed]",
            "text/plain": [
              "<Figure size 432x288 with 1 Axes>"
            ]
          },
          "metadata": {
            "needs_background": "light"
          }
        }
      ]
    },
    {
      "cell_type": "markdown",
      "metadata": {
        "id": "Hhv121ESl9cY"
      },
      "source": [
        "三角関数のグラフを描いてみよう"
      ]
    },
    {
      "cell_type": "code",
      "metadata": {
        "id": "Le8lApGIBzm8",
        "colab": {
          "base_uri": "https://localhost:8080/",
          "height": 293
        },
        "outputId": "997c4061-41c0-4081-d29e-7c887c13399e"
      },
      "source": [
        "import matplotlib.pyplot as plt\n",
        "import japanize_matplotlib\n",
        "import numpy as np\n",
        "import math\n",
        "x = np.linspace(-np.pi, np.pi)\n",
        "plt.plot(x, np.cos(x), color='r', ls='-', label='cos')\n",
        "plt.plot(x, np.sin(x), color='b', ls='-', label='sin')\n",
        "plt.plot(x, np.tan(x), color='c', marker='s', ls='None', label='tan')\n",
        "\n",
        "plt.xlim(-np.pi, np.pi)\n",
        "plt.ylim(-1.5, 1.5)\n",
        "\n",
        "plt.axhline(0, ls='-', c='b', lw=0.5)\n",
        "plt.axvline(0, ls='-', c='b', lw=0.5)\n",
        "\n",
        "plt.legend()\n",
        "plt.xlabel('ｘ軸')\n",
        "plt.ylabel('ｙ軸')\n",
        "plt.title('三角関数のグラグ')\n",
        "\n",
        "plt.show()"
      ],
      "execution_count": null,
      "outputs": [
        {
          "output_type": "display_data",
          "data": {
            "image/png": "[encoded data removed]",
            "text/plain": [
              "<Figure size 432x288 with 1 Axes>"
            ]
          },
          "metadata": {
            "needs_background": "light"
          }
        }
      ]
    },
    {
      "cell_type": "markdown",
      "metadata": {
        "id": "7u33ddbZQU1F"
      },
      "source": [
        "# PandasのDataFrame作成と結合方法\n",
        "\n",
        "Pandasは機械学習やディープラーニング行う上での、エクセルの様な存在だと考えるといいでしょう。\n",
        "\n",
        "まずは、簡単なDataFrame作成してみましょう。"
      ]
    },
    {
      "cell_type": "code",
      "metadata": {
        "id": "EXDCj2SdREng",
        "colab": {
          "base_uri": "https://localhost:8080/",
          "height": 174
        },
        "outputId": "275c2b57-090a-4fb1-b9a6-fb06103ce2cc"
      },
      "source": [
        "import numpy as np\n",
        "import pandas as pd\n",
        "data_f1 = pd.DataFrame({'name':['ando','ito','kato','sato'],\n",
        "          'id':[1,2,3,4],\n",
        "          'age':[30,40,50,60],\n",
        "          'weight':[92,43,58,78],\n",
        "          'height':[178,172,155,168]})\n",
        "data_f1"
      ],
      "execution_count": null,
      "outputs": [
        {
          "output_type": "execute_result",
          "data": {
            "text/html": [
              "\n",
              "  <div id=\"df-5286b0fd-4c4a-4cd8-8137-9abcb882c26a\">\n",
              "    <div class=\"colab-df-container\">\n",
              "      <div>\n",
              "<style scoped>\n",
              "    .dataframe tbody tr th:only-of-type {\n",
              "        vertical-align: middle;\n",
              "    }\n",
              "\n",
              "    .dataframe tbody tr th {\n",
              "        vertical-align: top;\n",
              "    }\n",
              "\n",
              "    .dataframe thead th {\n",
              "        text-align: right;\n",
              "    }\n",
              "</style>\n",
              "<table border=\"1\" class=\"dataframe\">\n",
              "  <thead>\n",
              "    <tr style=\"text-align: right;\">\n",
              "      <th></th>\n",
              "      <th>name</th>\n",
              "      <th>id</th>\n",
              "      <th>age</th>\n",
              "      <th>weight</th>\n",
              "      <th>height</th>\n",
              "    </tr>\n",
              "  </thead>\n",
              "  <tbody>\n",
              "    <tr>\n",
              "      <th>0</th>\n",
              "      <td>ando</td>\n",
              "      <td>1</td>\n",
              "      <td>30</td>\n",
              "      <td>92</td>\n",
              "      <td>178</td>\n",
              "    </tr>\n",
              "    <tr>\n",
              "      <th>1</th>\n",
              "      <td>ito</td>\n",
              "      <td>2</td>\n",
              "      <td>40</td>\n",
              "      <td>43</td>\n",
              "      <td>172</td>\n",
              "    </tr>\n",
              "    <tr>\n",
              "      <th>2</th>\n",
              "      <td>kato</td>\n",
              "      <td>3</td>\n",
              "      <td>50</td>\n",
              "      <td>58</td>\n",
              "      <td>155</td>\n",
              "    </tr>\n",
              "    <tr>\n",
              "      <th>3</th>\n",
              "      <td>sato</td>\n",
              "      <td>4</td>\n",
              "      <td>60</td>\n",
              "      <td>78</td>\n",
              "      <td>168</td>\n",
              "    </tr>\n",
              "  </tbody>\n",
              "</table>\n",
              "</div>\n",
              "      <button class=\"colab-df-convert\" onclick=\"convertToInteractive('df-5286b0fd-4c4a-4cd8-8137-9abcb882c26a')\"\n",
              "              title=\"Convert this dataframe to an interactive table.\"\n",
              "              style=\"display:none;\">\n",
              "        \n",
              "  <svg xmlns=\"http://www.w3.org/2000/svg\" height=\"24px\"viewBox=\"0 0 24 24\"\n",
              "       width=\"24px\">\n",
              "    <path d=\"M0 0h24v24H0V0z\" fill=\"none\"/>\n",
              "    <path d=\"M18.56 5.44l.94 2.06.94-2.06 2.06-.94-2.06-.94-.94-2.06-.94 2.06-2.06.94zm-11 1L8.5 8.5l.94-2.06 2.06-.94-2.06-.94L8.5 2.5l-.94 2.06-2.06.94zm10 10l.94 2.06.94-2.06 2.06-.94-2.06-.94-.94-2.06-.94 2.06-2.06.94z\"/><path d=\"M17.41 7.96l-1.37-1.37c-.4-.4-.92-.59-1.43-.59-.52 0-1.04.2-1.43.59L10.3 9.45l-7.72 7.72c-.78.78-.78 2.05 0 2.83L4 21.41c.39.39.9.59 1.41.59.51 0 1.02-.2 1.41-.59l7.78-7.78 2.81-2.81c.8-.78.8-2.07 0-2.86zM5.41 20L4 18.59l7.72-7.72 1.47 1.35L5.41 20z\"/>\n",
              "  </svg>\n",
              "      </button>\n",
              "      \n",
              "  <style>\n",
              "    .colab-df-container {\n",
              "      display:flex;\n",
              "      flex-wrap:wrap;\n",
              "      gap: 12px;\n",
              "    }\n",
              "\n",
              "    .colab-df-convert {\n",
              "      background-color: #E8F0FE;\n",
              "      border: none;\n",
              "      border-radius: 50%;\n",
              "      cursor: pointer;\n",
              "      display: none;\n",
              "      fill: #1967D2;\n",
              "      height: 32px;\n",
              "      padding: 0 0 0 0;\n",
              "      width: 32px;\n",
              "    }\n",
              "\n",
              "    .colab-df-convert:hover {\n",
              "      background-color: #E2EBFA;\n",
              "      box-shadow: 0px 1px 2px rgba(60, 64, 67, 0.3), 0px 1px 3px 1px rgba(60, 64, 67, 0.15);\n",
              "      fill: #174EA6;\n",
              "    }\n",
              "\n",
              "    [theme=dark] .colab-df-convert {\n",
              "      background-color: #3B4455;\n",
              "      fill: #D2E3FC;\n",
              "    }\n",
              "\n",
              "    [theme=dark] .colab-df-convert:hover {\n",
              "      background-color: #434B5C;\n",
              "      box-shadow: 0px 1px 3px 1px rgba(0, 0, 0, 0.15);\n",
              "      filter: drop-shadow(0px 1px 2px rgba(0, 0, 0, 0.3));\n",
              "      fill: #FFFFFF;\n",
              "    }\n",
              "  </style>\n",
              "\n",
              "      <script>\n",
              "        const buttonEl =\n",
              "          document.querySelector('#df-5286b0fd-4c4a-4cd8-8137-9abcb882c26a button.colab-df-convert');\n",
              "        buttonEl.style.display =\n",
              "          google.colab.kernel.accessAllowed ? 'block' : 'none';\n",
              "\n",
              "        async function convertToInteractive(key) {\n",
              "          const element = document.querySelector('#df-5286b0fd-4c4a-4cd8-8137-9abcb882c26a');\n",
              "          const dataTable =\n",
              "            await google.colab.kernel.invokeFunction('convertToInteractive',\n",
              "                                                     [key], {});\n",
              "          if (!dataTable) return;\n",
              "\n",
              "          const docLinkHtml = 'Like what you see? Visit the ' +\n",
              "            '<a target=\"_blank\" href=https://colab.research.google.com/notebooks/data_table.ipynb>data table notebook</a>'\n",
              "            + ' to learn more about interactive tables.';\n",
              "          element.innerHTML = '';\n",
              "          dataTable['output_type'] = 'display_data';\n",
              "          await google.colab.output.renderOutput(dataTable, element);\n",
              "          const docLink = document.createElement('div');\n",
              "          docLink.innerHTML = docLinkHtml;\n",
              "          element.appendChild(docLink);\n",
              "        }\n",
              "      </script>\n",
              "    </div>\n",
              "  </div>\n",
              "  "
            ],
            "text/plain": [
              "   name  id  age  weight  height\n",
              "0  ando   1   30      92     178\n",
              "1   ito   2   40      43     172\n",
              "2  kato   3   50      58     155\n",
              "3  sato   4   60      78     168"
            ]
          },
          "metadata": {},
          "execution_count": 41
        }
      ]
    },
    {
      "cell_type": "code",
      "metadata": {
        "id": "c0t04kuaR-Rl",
        "colab": {
          "base_uri": "https://localhost:8080/",
          "height": 238
        },
        "outputId": "6bdad6bd-88b7-4292-83f8-98ea33918cfe"
      },
      "source": [
        "data_f2 = pd.DataFrame({'id':[1,2,3,4,5,6],\n",
        "          'math':[50,60,70,80,90,100],\n",
        "          'english':[95,85,80,75,70,65],\n",
        "          'science':[40,55,60,65,70,75]})\n",
        "data_f2"
      ],
      "execution_count": null,
      "outputs": [
        {
          "output_type": "execute_result",
          "data": {
            "text/html": [
              "\n",
              "  <div id=\"df-1feb9c8b-84cb-4a5d-8a26-6b5de18cd7aa\">\n",
              "    <div class=\"colab-df-container\">\n",
              "      <div>\n",
              "<style scoped>\n",
              "    .dataframe tbody tr th:only-of-type {\n",
              "        vertical-align: middle;\n",
              "    }\n",
              "\n",
              "    .dataframe tbody tr th {\n",
              "        vertical-align: top;\n",
              "    }\n",
              "\n",
              "    .dataframe thead th {\n",
              "        text-align: right;\n",
              "    }\n",
              "</style>\n",
              "<table border=\"1\" class=\"dataframe\">\n",
              "  <thead>\n",
              "    <tr style=\"text-align: right;\">\n",
              "      <th></th>\n",
              "      <th>id</th>\n",
              "      <th>math</th>\n",
              "      <th>english</th>\n",
              "      <th>science</th>\n",
              "    </tr>\n",
              "  </thead>\n",
              "  <tbody>\n",
              "    <tr>\n",
              "      <th>0</th>\n",
              "      <td>1</td>\n",
              "      <td>50</td>\n",
              "      <td>95</td>\n",
              "      <td>40</td>\n",
              "    </tr>\n",
              "    <tr>\n",
              "      <th>1</th>\n",
              "      <td>2</td>\n",
              "      <td>60</td>\n",
              "      <td>85</td>\n",
              "      <td>55</td>\n",
              "    </tr>\n",
              "    <tr>\n",
              "      <th>2</th>\n",
              "      <td>3</td>\n",
              "      <td>70</td>\n",
              "      <td>80</td>\n",
              "      <td>60</td>\n",
              "    </tr>\n",
              "    <tr>\n",
              "      <th>3</th>\n",
              "      <td>4</td>\n",
              "      <td>80</td>\n",
              "      <td>75</td>\n",
              "      <td>65</td>\n",
              "    </tr>\n",
              "    <tr>\n",
              "      <th>4</th>\n",
              "      <td>5</td>\n",
              "      <td>90</td>\n",
              "      <td>70</td>\n",
              "      <td>70</td>\n",
              "    </tr>\n",
              "    <tr>\n",
              "      <th>5</th>\n",
              "      <td>6</td>\n",
              "      <td>100</td>\n",
              "      <td>65</td>\n",
              "      <td>75</td>\n",
              "    </tr>\n",
              "  </tbody>\n",
              "</table>\n",
              "</div>\n",
              "      <button class=\"colab-df-convert\" onclick=\"convertToInteractive('df-1feb9c8b-84cb-4a5d-8a26-6b5de18cd7aa')\"\n",
              "              title=\"Convert this dataframe to an interactive table.\"\n",
              "              style=\"display:none;\">\n",
              "        \n",
              "  <svg xmlns=\"http://www.w3.org/2000/svg\" height=\"24px\"viewBox=\"0 0 24 24\"\n",
              "       width=\"24px\">\n",
              "    <path d=\"M0 0h24v24H0V0z\" fill=\"none\"/>\n",
              "    <path d=\"M18.56 5.44l.94 2.06.94-2.06 2.06-.94-2.06-.94-.94-2.06-.94 2.06-2.06.94zm-11 1L8.5 8.5l.94-2.06 2.06-.94-2.06-.94L8.5 2.5l-.94 2.06-2.06.94zm10 10l.94 2.06.94-2.06 2.06-.94-2.06-.94-.94-2.06-.94 2.06-2.06.94z\"/><path d=\"M17.41 7.96l-1.37-1.37c-.4-.4-.92-.59-1.43-.59-.52 0-1.04.2-1.43.59L10.3 9.45l-7.72 7.72c-.78.78-.78 2.05 0 2.83L4 21.41c.39.39.9.59 1.41.59.51 0 1.02-.2 1.41-.59l7.78-7.78 2.81-2.81c.8-.78.8-2.07 0-2.86zM5.41 20L4 18.59l7.72-7.72 1.47 1.35L5.41 20z\"/>\n",
              "  </svg>\n",
              "      </button>\n",
              "      \n",
              "  <style>\n",
              "    .colab-df-container {\n",
              "      display:flex;\n",
              "      flex-wrap:wrap;\n",
              "      gap: 12px;\n",
              "    }\n",
              "\n",
              "    .colab-df-convert {\n",
              "      background-color: #E8F0FE;\n",
              "      border: none;\n",
              "      border-radius: 50%;\n",
              "      cursor: pointer;\n",
              "      display: none;\n",
              "      fill: #1967D2;\n",
              "      height: 32px;\n",
              "      padding: 0 0 0 0;\n",
              "      width: 32px;\n",
              "    }\n",
              "\n",
              "    .colab-df-convert:hover {\n",
              "      background-color: #E2EBFA;\n",
              "      box-shadow: 0px 1px 2px rgba(60, 64, 67, 0.3), 0px 1px 3px 1px rgba(60, 64, 67, 0.15);\n",
              "      fill: #174EA6;\n",
              "    }\n",
              "\n",
              "    [theme=dark] .colab-df-convert {\n",
              "      background-color: #3B4455;\n",
              "      fill: #D2E3FC;\n",
              "    }\n",
              "\n",
              "    [theme=dark] .colab-df-convert:hover {\n",
              "      background-color: #434B5C;\n",
              "      box-shadow: 0px 1px 3px 1px rgba(0, 0, 0, 0.15);\n",
              "      filter: drop-shadow(0px 1px 2px rgba(0, 0, 0, 0.3));\n",
              "      fill: #FFFFFF;\n",
              "    }\n",
              "  </style>\n",
              "\n",
              "      <script>\n",
              "        const buttonEl =\n",
              "          document.querySelector('#df-1feb9c8b-84cb-4a5d-8a26-6b5de18cd7aa button.colab-df-convert');\n",
              "        buttonEl.style.display =\n",
              "          google.colab.kernel.accessAllowed ? 'block' : 'none';\n",
              "\n",
              "        async function convertToInteractive(key) {\n",
              "          const element = document.querySelector('#df-1feb9c8b-84cb-4a5d-8a26-6b5de18cd7aa');\n",
              "          const dataTable =\n",
              "            await google.colab.kernel.invokeFunction('convertToInteractive',\n",
              "                                                     [key], {});\n",
              "          if (!dataTable) return;\n",
              "\n",
              "          const docLinkHtml = 'Like what you see? Visit the ' +\n",
              "            '<a target=\"_blank\" href=https://colab.research.google.com/notebooks/data_table.ipynb>data table notebook</a>'\n",
              "            + ' to learn more about interactive tables.';\n",
              "          element.innerHTML = '';\n",
              "          dataTable['output_type'] = 'display_data';\n",
              "          await google.colab.output.renderOutput(dataTable, element);\n",
              "          const docLink = document.createElement('div');\n",
              "          docLink.innerHTML = docLinkHtml;\n",
              "          element.appendChild(docLink);\n",
              "        }\n",
              "      </script>\n",
              "    </div>\n",
              "  </div>\n",
              "  "
            ],
            "text/plain": [
              "   id  math  english  science\n",
              "0   1    50       95       40\n",
              "1   2    60       85       55\n",
              "2   3    70       80       60\n",
              "3   4    80       75       65\n",
              "4   5    90       70       70\n",
              "5   6   100       65       75"
            ]
          },
          "metadata": {},
          "execution_count": 42
        }
      ]
    },
    {
      "cell_type": "markdown",
      "metadata": {
        "id": "Y_zCepQLhTvA"
      },
      "source": [
        "**ソートの方法**\n",
        "\n",
        "特定のカラムだけソートする場合"
      ]
    },
    {
      "cell_type": "code",
      "metadata": {
        "id": "Sg7fx5XDhfCE",
        "colab": {
          "base_uri": "https://localhost:8080/"
        },
        "outputId": "cff89197-4fdf-4caa-c1a7-b902bad59af4"
      },
      "source": [
        "data_f1.height.sort_values()"
      ],
      "execution_count": null,
      "outputs": [
        {
          "output_type": "execute_result",
          "data": {
            "text/plain": [
              "2    155\n",
              "3    168\n",
              "1    172\n",
              "0    178\n",
              "Name: height, dtype: int64"
            ]
          },
          "metadata": {},
          "execution_count": 43
        }
      ]
    },
    {
      "cell_type": "markdown",
      "metadata": {
        "id": "Jy0Cmtj4Sheb"
      },
      "source": [
        "ソートの方法\n",
        "f1のフレームのweightでソートしてみます。"
      ]
    },
    {
      "cell_type": "code",
      "metadata": {
        "id": "wlZQPqhhSrA4",
        "colab": {
          "base_uri": "https://localhost:8080/",
          "height": 174
        },
        "outputId": "f14450aa-b07c-4dfd-bc59-b74002c6b194"
      },
      "source": [
        "data_f1.sort_values(by=[\"weight\"], ascending=True)"
      ],
      "execution_count": null,
      "outputs": [
        {
          "output_type": "execute_result",
          "data": {
            "text/html": [
              "\n",
              "  <div id=\"df-58f27aa4-6b95-4129-bc51-8e266dd520bc\">\n",
              "    <div class=\"colab-df-container\">\n",
              "      <div>\n",
              "<style scoped>\n",
              "    .dataframe tbody tr th:only-of-type {\n",
              "        vertical-align: middle;\n",
              "    }\n",
              "\n",
              "    .dataframe tbody tr th {\n",
              "        vertical-align: top;\n",
              "    }\n",
              "\n",
              "    .dataframe thead th {\n",
              "        text-align: right;\n",
              "    }\n",
              "</style>\n",
              "<table border=\"1\" class=\"dataframe\">\n",
              "  <thead>\n",
              "    <tr style=\"text-align: right;\">\n",
              "      <th></th>\n",
              "      <th>name</th>\n",
              "      <th>id</th>\n",
              "      <th>age</th>\n",
              "      <th>weight</th>\n",
              "      <th>height</th>\n",
              "    </tr>\n",
              "  </thead>\n",
              "  <tbody>\n",
              "    <tr>\n",
              "      <th>1</th>\n",
              "      <td>ito</td>\n",
              "      <td>2</td>\n",
              "      <td>40</td>\n",
              "      <td>43</td>\n",
              "      <td>172</td>\n",
              "    </tr>\n",
              "    <tr>\n",
              "      <th>2</th>\n",
              "      <td>kato</td>\n",
              "      <td>3</td>\n",
              "      <td>50</td>\n",
              "      <td>58</td>\n",
              "      <td>155</td>\n",
              "    </tr>\n",
              "    <tr>\n",
              "      <th>3</th>\n",
              "      <td>sato</td>\n",
              "      <td>4</td>\n",
              "      <td>60</td>\n",
              "      <td>78</td>\n",
              "      <td>168</td>\n",
              "    </tr>\n",
              "    <tr>\n",
              "      <th>0</th>\n",
              "      <td>ando</td>\n",
              "      <td>1</td>\n",
              "      <td>30</td>\n",
              "      <td>92</td>\n",
              "      <td>178</td>\n",
              "    </tr>\n",
              "  </tbody>\n",
              "</table>\n",
              "</div>\n",
              "      <button class=\"colab-df-convert\" onclick=\"convertToInteractive('df-58f27aa4-6b95-4129-bc51-8e266dd520bc')\"\n",
              "              title=\"Convert this dataframe to an interactive table.\"\n",
              "              style=\"display:none;\">\n",
              "        \n",
              "  <svg xmlns=\"http://www.w3.org/2000/svg\" height=\"24px\"viewBox=\"0 0 24 24\"\n",
              "       width=\"24px\">\n",
              "    <path d=\"M0 0h24v24H0V0z\" fill=\"none\"/>\n",
              "    <path d=\"M18.56 5.44l.94 2.06.94-2.06 2.06-.94-2.06-.94-.94-2.06-.94 2.06-2.06.94zm-11 1L8.5 8.5l.94-2.06 2.06-.94-2.06-.94L8.5 2.5l-.94 2.06-2.06.94zm10 10l.94 2.06.94-2.06 2.06-.94-2.06-.94-.94-2.06-.94 2.06-2.06.94z\"/><path d=\"M17.41 7.96l-1.37-1.37c-.4-.4-.92-.59-1.43-.59-.52 0-1.04.2-1.43.59L10.3 9.45l-7.72 7.72c-.78.78-.78 2.05 0 2.83L4 21.41c.39.39.9.59 1.41.59.51 0 1.02-.2 1.41-.59l7.78-7.78 2.81-2.81c.8-.78.8-2.07 0-2.86zM5.41 20L4 18.59l7.72-7.72 1.47 1.35L5.41 20z\"/>\n",
              "  </svg>\n",
              "      </button>\n",
              "      \n",
              "  <style>\n",
              "    .colab-df-container {\n",
              "      display:flex;\n",
              "      flex-wrap:wrap;\n",
              "      gap: 12px;\n",
              "    }\n",
              "\n",
              "    .colab-df-convert {\n",
              "      background-color: #E8F0FE;\n",
              "      border: none;\n",
              "      border-radius: 50%;\n",
              "      cursor: pointer;\n",
              "      display: none;\n",
              "      fill: #1967D2;\n",
              "      height: 32px;\n",
              "      padding: 0 0 0 0;\n",
              "      width: 32px;\n",
              "    }\n",
              "\n",
              "    .colab-df-convert:hover {\n",
              "      background-color: #E2EBFA;\n",
              "      box-shadow: 0px 1px 2px rgba(60, 64, 67, 0.3), 0px 1px 3px 1px rgba(60, 64, 67, 0.15);\n",
              "      fill: #174EA6;\n",
              "    }\n",
              "\n",
              "    [theme=dark] .colab-df-convert {\n",
              "      background-color: #3B4455;\n",
              "      fill: #D2E3FC;\n",
              "    }\n",
              "\n",
              "    [theme=dark] .colab-df-convert:hover {\n",
              "      background-color: #434B5C;\n",
              "      box-shadow: 0px 1px 3px 1px rgba(0, 0, 0, 0.15);\n",
              "      filter: drop-shadow(0px 1px 2px rgba(0, 0, 0, 0.3));\n",
              "      fill: #FFFFFF;\n",
              "    }\n",
              "  </style>\n",
              "\n",
              "      <script>\n",
              "        const buttonEl =\n",
              "          document.querySelector('#df-58f27aa4-6b95-4129-bc51-8e266dd520bc button.colab-df-convert');\n",
              "        buttonEl.style.display =\n",
              "          google.colab.kernel.accessAllowed ? 'block' : 'none';\n",
              "\n",
              "        async function convertToInteractive(key) {\n",
              "          const element = document.querySelector('#df-58f27aa4-6b95-4129-bc51-8e266dd520bc');\n",
              "          const dataTable =\n",
              "            await google.colab.kernel.invokeFunction('convertToInteractive',\n",
              "                                                     [key], {});\n",
              "          if (!dataTable) return;\n",
              "\n",
              "          const docLinkHtml = 'Like what you see? Visit the ' +\n",
              "            '<a target=\"_blank\" href=https://colab.research.google.com/notebooks/data_table.ipynb>data table notebook</a>'\n",
              "            + ' to learn more about interactive tables.';\n",
              "          element.innerHTML = '';\n",
              "          dataTable['output_type'] = 'display_data';\n",
              "          await google.colab.output.renderOutput(dataTable, element);\n",
              "          const docLink = document.createElement('div');\n",
              "          docLink.innerHTML = docLinkHtml;\n",
              "          element.appendChild(docLink);\n",
              "        }\n",
              "      </script>\n",
              "    </div>\n",
              "  </div>\n",
              "  "
            ],
            "text/plain": [
              "   name  id  age  weight  height\n",
              "1   ito   2   40      43     172\n",
              "2  kato   3   50      58     155\n",
              "3  sato   4   60      78     168\n",
              "0  ando   1   30      92     178"
            ]
          },
          "metadata": {},
          "execution_count": 44
        }
      ]
    },
    {
      "cell_type": "markdown",
      "metadata": {
        "id": "d3bKZvA7TN0x"
      },
      "source": [
        "**データ結合**\n",
        "\n",
        "内部結合（inner join）"
      ]
    },
    {
      "cell_type": "code",
      "metadata": {
        "id": "qN9ged6JTV1p",
        "colab": {
          "base_uri": "https://localhost:8080/",
          "height": 174
        },
        "outputId": "d0e4a7ae-7377-4bb1-d387-5799a339726b"
      },
      "source": [
        "data_m = pd.merge(data_f1,data_f2)\n",
        "data_m"
      ],
      "execution_count": null,
      "outputs": [
        {
          "output_type": "execute_result",
          "data": {
            "text/html": [
              "\n",
              "  <div id=\"df-04e67081-2c18-4110-a568-d921048ef78f\">\n",
              "    <div class=\"colab-df-container\">\n",
              "      <div>\n",
              "<style scoped>\n",
              "    .dataframe tbody tr th:only-of-type {\n",
              "        vertical-align: middle;\n",
              "    }\n",
              "\n",
              "    .dataframe tbody tr th {\n",
              "        vertical-align: top;\n",
              "    }\n",
              "\n",
              "    .dataframe thead th {\n",
              "        text-align: right;\n",
              "    }\n",
              "</style>\n",
              "<table border=\"1\" class=\"dataframe\">\n",
              "  <thead>\n",
              "    <tr style=\"text-align: right;\">\n",
              "      <th></th>\n",
              "      <th>name</th>\n",
              "      <th>id</th>\n",
              "      <th>age</th>\n",
              "      <th>weight</th>\n",
              "      <th>height</th>\n",
              "      <th>math</th>\n",
              "      <th>english</th>\n",
              "      <th>science</th>\n",
              "    </tr>\n",
              "  </thead>\n",
              "  <tbody>\n",
              "    <tr>\n",
              "      <th>0</th>\n",
              "      <td>ando</td>\n",
              "      <td>1</td>\n",
              "      <td>30</td>\n",
              "      <td>92</td>\n",
              "      <td>178</td>\n",
              "      <td>50</td>\n",
              "      <td>95</td>\n",
              "      <td>40</td>\n",
              "    </tr>\n",
              "    <tr>\n",
              "      <th>1</th>\n",
              "      <td>ito</td>\n",
              "      <td>2</td>\n",
              "      <td>40</td>\n",
              "      <td>43</td>\n",
              "      <td>172</td>\n",
              "      <td>60</td>\n",
              "      <td>85</td>\n",
              "      <td>55</td>\n",
              "    </tr>\n",
              "    <tr>\n",
              "      <th>2</th>\n",
              "      <td>kato</td>\n",
              "      <td>3</td>\n",
              "      <td>50</td>\n",
              "      <td>58</td>\n",
              "      <td>155</td>\n",
              "      <td>70</td>\n",
              "      <td>80</td>\n",
              "      <td>60</td>\n",
              "    </tr>\n",
              "    <tr>\n",
              "      <th>3</th>\n",
              "      <td>sato</td>\n",
              "      <td>4</td>\n",
              "      <td>60</td>\n",
              "      <td>78</td>\n",
              "      <td>168</td>\n",
              "      <td>80</td>\n",
              "      <td>75</td>\n",
              "      <td>65</td>\n",
              "    </tr>\n",
              "  </tbody>\n",
              "</table>\n",
              "</div>\n",
              "      <button class=\"colab-df-convert\" onclick=\"convertToInteractive('df-04e67081-2c18-4110-a568-d921048ef78f')\"\n",
              "              title=\"Convert this dataframe to an interactive table.\"\n",
              "              style=\"display:none;\">\n",
              "        \n",
              "  <svg xmlns=\"http://www.w3.org/2000/svg\" height=\"24px\"viewBox=\"0 0 24 24\"\n",
              "       width=\"24px\">\n",
              "    <path d=\"M0 0h24v24H0V0z\" fill=\"none\"/>\n",
              "    <path d=\"M18.56 5.44l.94 2.06.94-2.06 2.06-.94-2.06-.94-.94-2.06-.94 2.06-2.06.94zm-11 1L8.5 8.5l.94-2.06 2.06-.94-2.06-.94L8.5 2.5l-.94 2.06-2.06.94zm10 10l.94 2.06.94-2.06 2.06-.94-2.06-.94-.94-2.06-.94 2.06-2.06.94z\"/><path d=\"M17.41 7.96l-1.37-1.37c-.4-.4-.92-.59-1.43-.59-.52 0-1.04.2-1.43.59L10.3 9.45l-7.72 7.72c-.78.78-.78 2.05 0 2.83L4 21.41c.39.39.9.59 1.41.59.51 0 1.02-.2 1.41-.59l7.78-7.78 2.81-2.81c.8-.78.8-2.07 0-2.86zM5.41 20L4 18.59l7.72-7.72 1.47 1.35L5.41 20z\"/>\n",
              "  </svg>\n",
              "      </button>\n",
              "      \n",
              "  <style>\n",
              "    .colab-df-container {\n",
              "      display:flex;\n",
              "      flex-wrap:wrap;\n",
              "      gap: 12px;\n",
              "    }\n",
              "\n",
              "    .colab-df-convert {\n",
              "      background-color: #E8F0FE;\n",
              "      border: none;\n",
              "      border-radius: 50%;\n",
              "      cursor: pointer;\n",
              "      display: none;\n",
              "      fill: #1967D2;\n",
              "      height: 32px;\n",
              "      padding: 0 0 0 0;\n",
              "      width: 32px;\n",
              "    }\n",
              "\n",
              "    .colab-df-convert:hover {\n",
              "      background-color: #E2EBFA;\n",
              "      box-shadow: 0px 1px 2px rgba(60, 64, 67, 0.3), 0px 1px 3px 1px rgba(60, 64, 67, 0.15);\n",
              "      fill: #174EA6;\n",
              "    }\n",
              "\n",
              "    [theme=dark] .colab-df-convert {\n",
              "      background-color: #3B4455;\n",
              "      fill: #D2E3FC;\n",
              "    }\n",
              "\n",
              "    [theme=dark] .colab-df-convert:hover {\n",
              "      background-color: #434B5C;\n",
              "      box-shadow: 0px 1px 3px 1px rgba(0, 0, 0, 0.15);\n",
              "      filter: drop-shadow(0px 1px 2px rgba(0, 0, 0, 0.3));\n",
              "      fill: #FFFFFF;\n",
              "    }\n",
              "  </style>\n",
              "\n",
              "      <script>\n",
              "        const buttonEl =\n",
              "          document.querySelector('#df-04e67081-2c18-4110-a568-d921048ef78f button.colab-df-convert');\n",
              "        buttonEl.style.display =\n",
              "          google.colab.kernel.accessAllowed ? 'block' : 'none';\n",
              "\n",
              "        async function convertToInteractive(key) {\n",
              "          const element = document.querySelector('#df-04e67081-2c18-4110-a568-d921048ef78f');\n",
              "          const dataTable =\n",
              "            await google.colab.kernel.invokeFunction('convertToInteractive',\n",
              "                                                     [key], {});\n",
              "          if (!dataTable) return;\n",
              "\n",
              "          const docLinkHtml = 'Like what you see? Visit the ' +\n",
              "            '<a target=\"_blank\" href=https://colab.research.google.com/notebooks/data_table.ipynb>data table notebook</a>'\n",
              "            + ' to learn more about interactive tables.';\n",
              "          element.innerHTML = '';\n",
              "          dataTable['output_type'] = 'display_data';\n",
              "          await google.colab.output.renderOutput(dataTable, element);\n",
              "          const docLink = document.createElement('div');\n",
              "          docLink.innerHTML = docLinkHtml;\n",
              "          element.appendChild(docLink);\n",
              "        }\n",
              "      </script>\n",
              "    </div>\n",
              "  </div>\n",
              "  "
            ],
            "text/plain": [
              "   name  id  age  weight  height  math  english  science\n",
              "0  ando   1   30      92     178    50       95       40\n",
              "1   ito   2   40      43     172    60       85       55\n",
              "2  kato   3   50      58     155    70       80       60\n",
              "3  sato   4   60      78     168    80       75       65"
            ]
          },
          "metadata": {},
          "execution_count": 45
        }
      ]
    },
    {
      "cell_type": "markdown",
      "metadata": {
        "id": "QxanONIyfs9_"
      },
      "source": [
        "全結合（outer join）"
      ]
    },
    {
      "cell_type": "code",
      "metadata": {
        "id": "VTmQiJ0Hf2Jp",
        "colab": {
          "base_uri": "https://localhost:8080/",
          "height": 238
        },
        "outputId": "bf9d3f71-fc8a-4b46-f568-d44b32a26329"
      },
      "source": [
        "data_mo = pd.merge(data_f1,data_f2,how = 'outer')\n",
        "data_mo"
      ],
      "execution_count": null,
      "outputs": [
        {
          "output_type": "execute_result",
          "data": {
            "text/html": [
              "\n",
              "  <div id=\"df-c6b11da2-a309-4150-8005-c3c16cf28f7a\">\n",
              "    <div class=\"colab-df-container\">\n",
              "      <div>\n",
              "<style scoped>\n",
              "    .dataframe tbody tr th:only-of-type {\n",
              "        vertical-align: middle;\n",
              "    }\n",
              "\n",
              "    .dataframe tbody tr th {\n",
              "        vertical-align: top;\n",
              "    }\n",
              "\n",
              "    .dataframe thead th {\n",
              "        text-align: right;\n",
              "    }\n",
              "</style>\n",
              "<table border=\"1\" class=\"dataframe\">\n",
              "  <thead>\n",
              "    <tr style=\"text-align: right;\">\n",
              "      <th></th>\n",
              "      <th>name</th>\n",
              "      <th>id</th>\n",
              "      <th>age</th>\n",
              "      <th>weight</th>\n",
              "      <th>height</th>\n",
              "      <th>math</th>\n",
              "      <th>english</th>\n",
              "      <th>science</th>\n",
              "    </tr>\n",
              "  </thead>\n",
              "  <tbody>\n",
              "    <tr>\n",
              "      <th>0</th>\n",
              "      <td>ando</td>\n",
              "      <td>1</td>\n",
              "      <td>30.0</td>\n",
              "      <td>92.0</td>\n",
              "      <td>178.0</td>\n",
              "      <td>50</td>\n",
              "      <td>95</td>\n",
              "      <td>40</td>\n",
              "    </tr>\n",
              "    <tr>\n",
              "      <th>1</th>\n",
              "      <td>ito</td>\n",
              "      <td>2</td>\n",
              "      <td>40.0</td>\n",
              "      <td>43.0</td>\n",
              "      <td>172.0</td>\n",
              "      <td>60</td>\n",
              "      <td>85</td>\n",
              "      <td>55</td>\n",
              "    </tr>\n",
              "    <tr>\n",
              "      <th>2</th>\n",
              "      <td>kato</td>\n",
              "      <td>3</td>\n",
              "      <td>50.0</td>\n",
              "      <td>58.0</td>\n",
              "      <td>155.0</td>\n",
              "      <td>70</td>\n",
              "      <td>80</td>\n",
              "      <td>60</td>\n",
              "    </tr>\n",
              "    <tr>\n",
              "      <th>3</th>\n",
              "      <td>sato</td>\n",
              "      <td>4</td>\n",
              "      <td>60.0</td>\n",
              "      <td>78.0</td>\n",
              "      <td>168.0</td>\n",
              "      <td>80</td>\n",
              "      <td>75</td>\n",
              "      <td>65</td>\n",
              "    </tr>\n",
              "    <tr>\n",
              "      <th>4</th>\n",
              "      <td>NaN</td>\n",
              "      <td>5</td>\n",
              "      <td>NaN</td>\n",
              "      <td>NaN</td>\n",
              "      <td>NaN</td>\n",
              "      <td>90</td>\n",
              "      <td>70</td>\n",
              "      <td>70</td>\n",
              "    </tr>\n",
              "    <tr>\n",
              "      <th>5</th>\n",
              "      <td>NaN</td>\n",
              "      <td>6</td>\n",
              "      <td>NaN</td>\n",
              "      <td>NaN</td>\n",
              "      <td>NaN</td>\n",
              "      <td>100</td>\n",
              "      <td>65</td>\n",
              "      <td>75</td>\n",
              "    </tr>\n",
              "  </tbody>\n",
              "</table>\n",
              "</div>\n",
              "      <button class=\"colab-df-convert\" onclick=\"convertToInteractive('df-c6b11da2-a309-4150-8005-c3c16cf28f7a')\"\n",
              "              title=\"Convert this dataframe to an interactive table.\"\n",
              "              style=\"display:none;\">\n",
              "        \n",
              "  <svg xmlns=\"http://www.w3.org/2000/svg\" height=\"24px\"viewBox=\"0 0 24 24\"\n",
              "       width=\"24px\">\n",
              "    <path d=\"M0 0h24v24H0V0z\" fill=\"none\"/>\n",
              "    <path d=\"M18.56 5.44l.94 2.06.94-2.06 2.06-.94-2.06-.94-.94-2.06-.94 2.06-2.06.94zm-11 1L8.5 8.5l.94-2.06 2.06-.94-2.06-.94L8.5 2.5l-.94 2.06-2.06.94zm10 10l.94 2.06.94-2.06 2.06-.94-2.06-.94-.94-2.06-.94 2.06-2.06.94z\"/><path d=\"M17.41 7.96l-1.37-1.37c-.4-.4-.92-.59-1.43-.59-.52 0-1.04.2-1.43.59L10.3 9.45l-7.72 7.72c-.78.78-.78 2.05 0 2.83L4 21.41c.39.39.9.59 1.41.59.51 0 1.02-.2 1.41-.59l7.78-7.78 2.81-2.81c.8-.78.8-2.07 0-2.86zM5.41 20L4 18.59l7.72-7.72 1.47 1.35L5.41 20z\"/>\n",
              "  </svg>\n",
              "      </button>\n",
              "      \n",
              "  <style>\n",
              "    .colab-df-container {\n",
              "      display:flex;\n",
              "      flex-wrap:wrap;\n",
              "      gap: 12px;\n",
              "    }\n",
              "\n",
              "    .colab-df-convert {\n",
              "      background-color: #E8F0FE;\n",
              "      border: none;\n",
              "      border-radius: 50%;\n",
              "      cursor: pointer;\n",
              "      display: none;\n",
              "      fill: #1967D2;\n",
              "      height: 32px;\n",
              "      padding: 0 0 0 0;\n",
              "      width: 32px;\n",
              "    }\n",
              "\n",
              "    .colab-df-convert:hover {\n",
              "      background-color: #E2EBFA;\n",
              "      box-shadow: 0px 1px 2px rgba(60, 64, 67, 0.3), 0px 1px 3px 1px rgba(60, 64, 67, 0.15);\n",
              "      fill: #174EA6;\n",
              "    }\n",
              "\n",
              "    [theme=dark] .colab-df-convert {\n",
              "      background-color: #3B4455;\n",
              "      fill: #D2E3FC;\n",
              "    }\n",
              "\n",
              "    [theme=dark] .colab-df-convert:hover {\n",
              "      background-color: #434B5C;\n",
              "      box-shadow: 0px 1px 3px 1px rgba(0, 0, 0, 0.15);\n",
              "      filter: drop-shadow(0px 1px 2px rgba(0, 0, 0, 0.3));\n",
              "      fill: #FFFFFF;\n",
              "    }\n",
              "  </style>\n",
              "\n",
              "      <script>\n",
              "        const buttonEl =\n",
              "          document.querySelector('#df-c6b11da2-a309-4150-8005-c3c16cf28f7a button.colab-df-convert');\n",
              "        buttonEl.style.display =\n",
              "          google.colab.kernel.accessAllowed ? 'block' : 'none';\n",
              "\n",
              "        async function convertToInteractive(key) {\n",
              "          const element = document.querySelector('#df-c6b11da2-a309-4150-8005-c3c16cf28f7a');\n",
              "          const dataTable =\n",
              "            await google.colab.kernel.invokeFunction('convertToInteractive',\n",
              "                                                     [key], {});\n",
              "          if (!dataTable) return;\n",
              "\n",
              "          const docLinkHtml = 'Like what you see? Visit the ' +\n",
              "            '<a target=\"_blank\" href=https://colab.research.google.com/notebooks/data_table.ipynb>data table notebook</a>'\n",
              "            + ' to learn more about interactive tables.';\n",
              "          element.innerHTML = '';\n",
              "          dataTable['output_type'] = 'display_data';\n",
              "          await google.colab.output.renderOutput(dataTable, element);\n",
              "          const docLink = document.createElement('div');\n",
              "          docLink.innerHTML = docLinkHtml;\n",
              "          element.appendChild(docLink);\n",
              "        }\n",
              "      </script>\n",
              "    </div>\n",
              "  </div>\n",
              "  "
            ],
            "text/plain": [
              "   name  id   age  weight  height  math  english  science\n",
              "0  ando   1  30.0    92.0   178.0    50       95       40\n",
              "1   ito   2  40.0    43.0   172.0    60       85       55\n",
              "2  kato   3  50.0    58.0   155.0    70       80       60\n",
              "3  sato   4  60.0    78.0   168.0    80       75       65\n",
              "4   NaN   5   NaN     NaN     NaN    90       70       70\n",
              "5   NaN   6   NaN     NaN     NaN   100       65       75"
            ]
          },
          "metadata": {},
          "execution_count": 46
        }
      ]
    },
    {
      "cell_type": "markdown",
      "metadata": {
        "id": "AynGPJHAgFxc"
      },
      "source": [
        "左外部結合"
      ]
    },
    {
      "cell_type": "code",
      "metadata": {
        "id": "tazU1CaIgNcz",
        "colab": {
          "base_uri": "https://localhost:8080/",
          "height": 174
        },
        "outputId": "063bc7bb-6ff4-4f5f-87c1-4d94a2b728a9"
      },
      "source": [
        "data_lo = pd.merge(data_f1,data_f2,how = 'left')\n",
        "data_lo"
      ],
      "execution_count": null,
      "outputs": [
        {
          "output_type": "execute_result",
          "data": {
            "text/html": [
              "\n",
              "  <div id=\"df-94a9a3d6-b6b1-4a91-b3d6-84ca80bf9219\">\n",
              "    <div class=\"colab-df-container\">\n",
              "      <div>\n",
              "<style scoped>\n",
              "    .dataframe tbody tr th:only-of-type {\n",
              "        vertical-align: middle;\n",
              "    }\n",
              "\n",
              "    .dataframe tbody tr th {\n",
              "        vertical-align: top;\n",
              "    }\n",
              "\n",
              "    .dataframe thead th {\n",
              "        text-align: right;\n",
              "    }\n",
              "</style>\n",
              "<table border=\"1\" class=\"dataframe\">\n",
              "  <thead>\n",
              "    <tr style=\"text-align: right;\">\n",
              "      <th></th>\n",
              "      <th>name</th>\n",
              "      <th>id</th>\n",
              "      <th>age</th>\n",
              "      <th>weight</th>\n",
              "      <th>height</th>\n",
              "      <th>math</th>\n",
              "      <th>english</th>\n",
              "      <th>science</th>\n",
              "    </tr>\n",
              "  </thead>\n",
              "  <tbody>\n",
              "    <tr>\n",
              "      <th>0</th>\n",
              "      <td>ando</td>\n",
              "      <td>1</td>\n",
              "      <td>30</td>\n",
              "      <td>92</td>\n",
              "      <td>178</td>\n",
              "      <td>50</td>\n",
              "      <td>95</td>\n",
              "      <td>40</td>\n",
              "    </tr>\n",
              "    <tr>\n",
              "      <th>1</th>\n",
              "      <td>ito</td>\n",
              "      <td>2</td>\n",
              "      <td>40</td>\n",
              "      <td>43</td>\n",
              "      <td>172</td>\n",
              "      <td>60</td>\n",
              "      <td>85</td>\n",
              "      <td>55</td>\n",
              "    </tr>\n",
              "    <tr>\n",
              "      <th>2</th>\n",
              "      <td>kato</td>\n",
              "      <td>3</td>\n",
              "      <td>50</td>\n",
              "      <td>58</td>\n",
              "      <td>155</td>\n",
              "      <td>70</td>\n",
              "      <td>80</td>\n",
              "      <td>60</td>\n",
              "    </tr>\n",
              "    <tr>\n",
              "      <th>3</th>\n",
              "      <td>sato</td>\n",
              "      <td>4</td>\n",
              "      <td>60</td>\n",
              "      <td>78</td>\n",
              "      <td>168</td>\n",
              "      <td>80</td>\n",
              "      <td>75</td>\n",
              "      <td>65</td>\n",
              "    </tr>\n",
              "  </tbody>\n",
              "</table>\n",
              "</div>\n",
              "      <button class=\"colab-df-convert\" onclick=\"convertToInteractive('df-94a9a3d6-b6b1-4a91-b3d6-84ca80bf9219')\"\n",
              "              title=\"Convert this dataframe to an interactive table.\"\n",
              "              style=\"display:none;\">\n",
              "        \n",
              "  <svg xmlns=\"http://www.w3.org/2000/svg\" height=\"24px\"viewBox=\"0 0 24 24\"\n",
              "       width=\"24px\">\n",
              "    <path d=\"M0 0h24v24H0V0z\" fill=\"none\"/>\n",
              "    <path d=\"M18.56 5.44l.94 2.06.94-2.06 2.06-.94-2.06-.94-.94-2.06-.94 2.06-2.06.94zm-11 1L8.5 8.5l.94-2.06 2.06-.94-2.06-.94L8.5 2.5l-.94 2.06-2.06.94zm10 10l.94 2.06.94-2.06 2.06-.94-2.06-.94-.94-2.06-.94 2.06-2.06.94z\"/><path d=\"M17.41 7.96l-1.37-1.37c-.4-.4-.92-.59-1.43-.59-.52 0-1.04.2-1.43.59L10.3 9.45l-7.72 7.72c-.78.78-.78 2.05 0 2.83L4 21.41c.39.39.9.59 1.41.59.51 0 1.02-.2 1.41-.59l7.78-7.78 2.81-2.81c.8-.78.8-2.07 0-2.86zM5.41 20L4 18.59l7.72-7.72 1.47 1.35L5.41 20z\"/>\n",
              "  </svg>\n",
              "      </button>\n",
              "      \n",
              "  <style>\n",
              "    .colab-df-container {\n",
              "      display:flex;\n",
              "      flex-wrap:wrap;\n",
              "      gap: 12px;\n",
              "    }\n",
              "\n",
              "    .colab-df-convert {\n",
              "      background-color: #E8F0FE;\n",
              "      border: none;\n",
              "      border-radius: 50%;\n",
              "      cursor: pointer;\n",
              "      display: none;\n",
              "      fill: #1967D2;\n",
              "      height: 32px;\n",
              "      padding: 0 0 0 0;\n",
              "      width: 32px;\n",
              "    }\n",
              "\n",
              "    .colab-df-convert:hover {\n",
              "      background-color: #E2EBFA;\n",
              "      box-shadow: 0px 1px 2px rgba(60, 64, 67, 0.3), 0px 1px 3px 1px rgba(60, 64, 67, 0.15);\n",
              "      fill: #174EA6;\n",
              "    }\n",
              "\n",
              "    [theme=dark] .colab-df-convert {\n",
              "      background-color: #3B4455;\n",
              "      fill: #D2E3FC;\n",
              "    }\n",
              "\n",
              "    [theme=dark] .colab-df-convert:hover {\n",
              "      background-color: #434B5C;\n",
              "      box-shadow: 0px 1px 3px 1px rgba(0, 0, 0, 0.15);\n",
              "      filter: drop-shadow(0px 1px 2px rgba(0, 0, 0, 0.3));\n",
              "      fill: #FFFFFF;\n",
              "    }\n",
              "  </style>\n",
              "\n",
              "      <script>\n",
              "        const buttonEl =\n",
              "          document.querySelector('#df-94a9a3d6-b6b1-4a91-b3d6-84ca80bf9219 button.colab-df-convert');\n",
              "        buttonEl.style.display =\n",
              "          google.colab.kernel.accessAllowed ? 'block' : 'none';\n",
              "\n",
              "        async function convertToInteractive(key) {\n",
              "          const element = document.querySelector('#df-94a9a3d6-b6b1-4a91-b3d6-84ca80bf9219');\n",
              "          const dataTable =\n",
              "            await google.colab.kernel.invokeFunction('convertToInteractive',\n",
              "                                                     [key], {});\n",
              "          if (!dataTable) return;\n",
              "\n",
              "          const docLinkHtml = 'Like what you see? Visit the ' +\n",
              "            '<a target=\"_blank\" href=https://colab.research.google.com/notebooks/data_table.ipynb>data table notebook</a>'\n",
              "            + ' to learn more about interactive tables.';\n",
              "          element.innerHTML = '';\n",
              "          dataTable['output_type'] = 'display_data';\n",
              "          await google.colab.output.renderOutput(dataTable, element);\n",
              "          const docLink = document.createElement('div');\n",
              "          docLink.innerHTML = docLinkHtml;\n",
              "          element.appendChild(docLink);\n",
              "        }\n",
              "      </script>\n",
              "    </div>\n",
              "  </div>\n",
              "  "
            ],
            "text/plain": [
              "   name  id  age  weight  height  math  english  science\n",
              "0  ando   1   30      92     178    50       95       40\n",
              "1   ito   2   40      43     172    60       85       55\n",
              "2  kato   3   50      58     155    70       80       60\n",
              "3  sato   4   60      78     168    80       75       65"
            ]
          },
          "metadata": {},
          "execution_count": 47
        }
      ]
    },
    {
      "cell_type": "markdown",
      "metadata": {
        "id": "CnzxyTYVghQI"
      },
      "source": [
        "右外部結合"
      ]
    },
    {
      "cell_type": "code",
      "metadata": {
        "id": "KIG828ZMgk3y",
        "colab": {
          "base_uri": "https://localhost:8080/",
          "height": 238
        },
        "outputId": "d6e70846-8a7c-4b36-fd1b-2e2072db9a87"
      },
      "source": [
        "data_mr = pd.merge(data_f1,data_f2,how = 'right')\n",
        "data_mr"
      ],
      "execution_count": null,
      "outputs": [
        {
          "output_type": "execute_result",
          "data": {
            "text/html": [
              "\n",
              "  <div id=\"df-cfe0c9a0-dcf0-45c9-a278-3ccefd03414d\">\n",
              "    <div class=\"colab-df-container\">\n",
              "      <div>\n",
              "<style scoped>\n",
              "    .dataframe tbody tr th:only-of-type {\n",
              "        vertical-align: middle;\n",
              "    }\n",
              "\n",
              "    .dataframe tbody tr th {\n",
              "        vertical-align: top;\n",
              "    }\n",
              "\n",
              "    .dataframe thead th {\n",
              "        text-align: right;\n",
              "    }\n",
              "</style>\n",
              "<table border=\"1\" class=\"dataframe\">\n",
              "  <thead>\n",
              "    <tr style=\"text-align: right;\">\n",
              "      <th></th>\n",
              "      <th>name</th>\n",
              "      <th>id</th>\n",
              "      <th>age</th>\n",
              "      <th>weight</th>\n",
              "      <th>height</th>\n",
              "      <th>math</th>\n",
              "      <th>english</th>\n",
              "      <th>science</th>\n",
              "    </tr>\n",
              "  </thead>\n",
              "  <tbody>\n",
              "    <tr>\n",
              "      <th>0</th>\n",
              "      <td>ando</td>\n",
              "      <td>1</td>\n",
              "      <td>30.0</td>\n",
              "      <td>92.0</td>\n",
              "      <td>178.0</td>\n",
              "      <td>50</td>\n",
              "      <td>95</td>\n",
              "      <td>40</td>\n",
              "    </tr>\n",
              "    <tr>\n",
              "      <th>1</th>\n",
              "      <td>ito</td>\n",
              "      <td>2</td>\n",
              "      <td>40.0</td>\n",
              "      <td>43.0</td>\n",
              "      <td>172.0</td>\n",
              "      <td>60</td>\n",
              "      <td>85</td>\n",
              "      <td>55</td>\n",
              "    </tr>\n",
              "    <tr>\n",
              "      <th>2</th>\n",
              "      <td>kato</td>\n",
              "      <td>3</td>\n",
              "      <td>50.0</td>\n",
              "      <td>58.0</td>\n",
              "      <td>155.0</td>\n",
              "      <td>70</td>\n",
              "      <td>80</td>\n",
              "      <td>60</td>\n",
              "    </tr>\n",
              "    <tr>\n",
              "      <th>3</th>\n",
              "      <td>sato</td>\n",
              "      <td>4</td>\n",
              "      <td>60.0</td>\n",
              "      <td>78.0</td>\n",
              "      <td>168.0</td>\n",
              "      <td>80</td>\n",
              "      <td>75</td>\n",
              "      <td>65</td>\n",
              "    </tr>\n",
              "    <tr>\n",
              "      <th>4</th>\n",
              "      <td>NaN</td>\n",
              "      <td>5</td>\n",
              "      <td>NaN</td>\n",
              "      <td>NaN</td>\n",
              "      <td>NaN</td>\n",
              "      <td>90</td>\n",
              "      <td>70</td>\n",
              "      <td>70</td>\n",
              "    </tr>\n",
              "    <tr>\n",
              "      <th>5</th>\n",
              "      <td>NaN</td>\n",
              "      <td>6</td>\n",
              "      <td>NaN</td>\n",
              "      <td>NaN</td>\n",
              "      <td>NaN</td>\n",
              "      <td>100</td>\n",
              "      <td>65</td>\n",
              "      <td>75</td>\n",
              "    </tr>\n",
              "  </tbody>\n",
              "</table>\n",
              "</div>\n",
              "      <button class=\"colab-df-convert\" onclick=\"convertToInteractive('df-cfe0c9a0-dcf0-45c9-a278-3ccefd03414d')\"\n",
              "              title=\"Convert this dataframe to an interactive table.\"\n",
              "              style=\"display:none;\">\n",
              "        \n",
              "  <svg xmlns=\"http://www.w3.org/2000/svg\" height=\"24px\"viewBox=\"0 0 24 24\"\n",
              "       width=\"24px\">\n",
              "    <path d=\"M0 0h24v24H0V0z\" fill=\"none\"/>\n",
              "    <path d=\"M18.56 5.44l.94 2.06.94-2.06 2.06-.94-2.06-.94-.94-2.06-.94 2.06-2.06.94zm-11 1L8.5 8.5l.94-2.06 2.06-.94-2.06-.94L8.5 2.5l-.94 2.06-2.06.94zm10 10l.94 2.06.94-2.06 2.06-.94-2.06-.94-.94-2.06-.94 2.06-2.06.94z\"/><path d=\"M17.41 7.96l-1.37-1.37c-.4-.4-.92-.59-1.43-.59-.52 0-1.04.2-1.43.59L10.3 9.45l-7.72 7.72c-.78.78-.78 2.05 0 2.83L4 21.41c.39.39.9.59 1.41.59.51 0 1.02-.2 1.41-.59l7.78-7.78 2.81-2.81c.8-.78.8-2.07 0-2.86zM5.41 20L4 18.59l7.72-7.72 1.47 1.35L5.41 20z\"/>\n",
              "  </svg>\n",
              "      </button>\n",
              "      \n",
              "  <style>\n",
              "    .colab-df-container {\n",
              "      display:flex;\n",
              "      flex-wrap:wrap;\n",
              "      gap: 12px;\n",
              "    }\n",
              "\n",
              "    .colab-df-convert {\n",
              "      background-color: #E8F0FE;\n",
              "      border: none;\n",
              "      border-radius: 50%;\n",
              "      cursor: pointer;\n",
              "      display: none;\n",
              "      fill: #1967D2;\n",
              "      height: 32px;\n",
              "      padding: 0 0 0 0;\n",
              "      width: 32px;\n",
              "    }\n",
              "\n",
              "    .colab-df-convert:hover {\n",
              "      background-color: #E2EBFA;\n",
              "      box-shadow: 0px 1px 2px rgba(60, 64, 67, 0.3), 0px 1px 3px 1px rgba(60, 64, 67, 0.15);\n",
              "      fill: #174EA6;\n",
              "    }\n",
              "\n",
              "    [theme=dark] .colab-df-convert {\n",
              "      background-color: #3B4455;\n",
              "      fill: #D2E3FC;\n",
              "    }\n",
              "\n",
              "    [theme=dark] .colab-df-convert:hover {\n",
              "      background-color: #434B5C;\n",
              "      box-shadow: 0px 1px 3px 1px rgba(0, 0, 0, 0.15);\n",
              "      filter: drop-shadow(0px 1px 2px rgba(0, 0, 0, 0.3));\n",
              "      fill: #FFFFFF;\n",
              "    }\n",
              "  </style>\n",
              "\n",
              "      <script>\n",
              "        const buttonEl =\n",
              "          document.querySelector('#df-cfe0c9a0-dcf0-45c9-a278-3ccefd03414d button.colab-df-convert');\n",
              "        buttonEl.style.display =\n",
              "          google.colab.kernel.accessAllowed ? 'block' : 'none';\n",
              "\n",
              "        async function convertToInteractive(key) {\n",
              "          const element = document.querySelector('#df-cfe0c9a0-dcf0-45c9-a278-3ccefd03414d');\n",
              "          const dataTable =\n",
              "            await google.colab.kernel.invokeFunction('convertToInteractive',\n",
              "                                                     [key], {});\n",
              "          if (!dataTable) return;\n",
              "\n",
              "          const docLinkHtml = 'Like what you see? Visit the ' +\n",
              "            '<a target=\"_blank\" href=https://colab.research.google.com/notebooks/data_table.ipynb>data table notebook</a>'\n",
              "            + ' to learn more about interactive tables.';\n",
              "          element.innerHTML = '';\n",
              "          dataTable['output_type'] = 'display_data';\n",
              "          await google.colab.output.renderOutput(dataTable, element);\n",
              "          const docLink = document.createElement('div');\n",
              "          docLink.innerHTML = docLinkHtml;\n",
              "          element.appendChild(docLink);\n",
              "        }\n",
              "      </script>\n",
              "    </div>\n",
              "  </div>\n",
              "  "
            ],
            "text/plain": [
              "   name  id   age  weight  height  math  english  science\n",
              "0  ando   1  30.0    92.0   178.0    50       95       40\n",
              "1   ito   2  40.0    43.0   172.0    60       85       55\n",
              "2  kato   3  50.0    58.0   155.0    70       80       60\n",
              "3  sato   4  60.0    78.0   168.0    80       75       65\n",
              "4   NaN   5   NaN     NaN     NaN    90       70       70\n",
              "5   NaN   6   NaN     NaN     NaN   100       65       75"
            ]
          },
          "metadata": {},
          "execution_count": 48
        }
      ]
    },
    {
      "cell_type": "markdown",
      "metadata": {
        "id": "lD2f5yimuYR9"
      },
      "source": [
        "# numpy.ndarray型とPandas DataFrame型との相互変換"
      ]
    },
    {
      "cell_type": "code",
      "metadata": {
        "id": "gJonGsqMuXhd"
      },
      "source": [
        "import pandas as pd\n",
        "import numpy as np"
      ],
      "execution_count": null,
      "outputs": []
    },
    {
      "cell_type": "markdown",
      "metadata": {
        "id": "eVocM3Kgu1ib"
      },
      "source": [
        "再度、簡単なDateFrameを作成してみよう"
      ]
    },
    {
      "cell_type": "code",
      "source": [
        "import numpy as np\n",
        "import pandas as pd\n",
        "data_f1 = pd.DataFrame({'name':['ando','ito','kato','sato'],\n",
        "          'id':[1,2,3,4],\n",
        "          'age':[30,40,50,60],\n",
        "          'weight':[92,43,58,78],\n",
        "          'height':[178,172,155,168]})\n",
        "data_f1"
      ],
      "metadata": {
        "colab": {
          "base_uri": "https://localhost:8080/",
          "height": 174
        },
        "id": "fX89ayOky8mJ",
        "outputId": "456dbb7b-264f-4837-ee22-77e252592e29"
      },
      "execution_count": null,
      "outputs": [
        {
          "output_type": "execute_result",
          "data": {
            "text/html": [
              "\n",
              "  <div id=\"df-c82d4ba5-b462-4974-85dc-4632f6faa9ec\">\n",
              "    <div class=\"colab-df-container\">\n",
              "      <div>\n",
              "<style scoped>\n",
              "    .dataframe tbody tr th:only-of-type {\n",
              "        vertical-align: middle;\n",
              "    }\n",
              "\n",
              "    .dataframe tbody tr th {\n",
              "        vertical-align: top;\n",
              "    }\n",
              "\n",
              "    .dataframe thead th {\n",
              "        text-align: right;\n",
              "    }\n",
              "</style>\n",
              "<table border=\"1\" class=\"dataframe\">\n",
              "  <thead>\n",
              "    <tr style=\"text-align: right;\">\n",
              "      <th></th>\n",
              "      <th>name</th>\n",
              "      <th>id</th>\n",
              "      <th>age</th>\n",
              "      <th>weight</th>\n",
              "      <th>height</th>\n",
              "    </tr>\n",
              "  </thead>\n",
              "  <tbody>\n",
              "    <tr>\n",
              "      <th>0</th>\n",
              "      <td>ando</td>\n",
              "      <td>1</td>\n",
              "      <td>30</td>\n",
              "      <td>92</td>\n",
              "      <td>178</td>\n",
              "    </tr>\n",
              "    <tr>\n",
              "      <th>1</th>\n",
              "      <td>ito</td>\n",
              "      <td>2</td>\n",
              "      <td>40</td>\n",
              "      <td>43</td>\n",
              "      <td>172</td>\n",
              "    </tr>\n",
              "    <tr>\n",
              "      <th>2</th>\n",
              "      <td>kato</td>\n",
              "      <td>3</td>\n",
              "      <td>50</td>\n",
              "      <td>58</td>\n",
              "      <td>155</td>\n",
              "    </tr>\n",
              "    <tr>\n",
              "      <th>3</th>\n",
              "      <td>sato</td>\n",
              "      <td>4</td>\n",
              "      <td>60</td>\n",
              "      <td>78</td>\n",
              "      <td>168</td>\n",
              "    </tr>\n",
              "  </tbody>\n",
              "</table>\n",
              "</div>\n",
              "      <button class=\"colab-df-convert\" onclick=\"convertToInteractive('df-c82d4ba5-b462-4974-85dc-4632f6faa9ec')\"\n",
              "              title=\"Convert this dataframe to an interactive table.\"\n",
              "              style=\"display:none;\">\n",
              "        \n",
              "  <svg xmlns=\"http://www.w3.org/2000/svg\" height=\"24px\"viewBox=\"0 0 24 24\"\n",
              "       width=\"24px\">\n",
              "    <path d=\"M0 0h24v24H0V0z\" fill=\"none\"/>\n",
              "    <path d=\"M18.56 5.44l.94 2.06.94-2.06 2.06-.94-2.06-.94-.94-2.06-.94 2.06-2.06.94zm-11 1L8.5 8.5l.94-2.06 2.06-.94-2.06-.94L8.5 2.5l-.94 2.06-2.06.94zm10 10l.94 2.06.94-2.06 2.06-.94-2.06-.94-.94-2.06-.94 2.06-2.06.94z\"/><path d=\"M17.41 7.96l-1.37-1.37c-.4-.4-.92-.59-1.43-.59-.52 0-1.04.2-1.43.59L10.3 9.45l-7.72 7.72c-.78.78-.78 2.05 0 2.83L4 21.41c.39.39.9.59 1.41.59.51 0 1.02-.2 1.41-.59l7.78-7.78 2.81-2.81c.8-.78.8-2.07 0-2.86zM5.41 20L4 18.59l7.72-7.72 1.47 1.35L5.41 20z\"/>\n",
              "  </svg>\n",
              "      </button>\n",
              "      \n",
              "  <style>\n",
              "    .colab-df-container {\n",
              "      display:flex;\n",
              "      flex-wrap:wrap;\n",
              "      gap: 12px;\n",
              "    }\n",
              "\n",
              "    .colab-df-convert {\n",
              "      background-color: #E8F0FE;\n",
              "      border: none;\n",
              "      border-radius: 50%;\n",
              "      cursor: pointer;\n",
              "      display: none;\n",
              "      fill: #1967D2;\n",
              "      height: 32px;\n",
              "      padding: 0 0 0 0;\n",
              "      width: 32px;\n",
              "    }\n",
              "\n",
              "    .colab-df-convert:hover {\n",
              "      background-color: #E2EBFA;\n",
              "      box-shadow: 0px 1px 2px rgba(60, 64, 67, 0.3), 0px 1px 3px 1px rgba(60, 64, 67, 0.15);\n",
              "      fill: #174EA6;\n",
              "    }\n",
              "\n",
              "    [theme=dark] .colab-df-convert {\n",
              "      background-color: #3B4455;\n",
              "      fill: #D2E3FC;\n",
              "    }\n",
              "\n",
              "    [theme=dark] .colab-df-convert:hover {\n",
              "      background-color: #434B5C;\n",
              "      box-shadow: 0px 1px 3px 1px rgba(0, 0, 0, 0.15);\n",
              "      filter: drop-shadow(0px 1px 2px rgba(0, 0, 0, 0.3));\n",
              "      fill: #FFFFFF;\n",
              "    }\n",
              "  </style>\n",
              "\n",
              "      <script>\n",
              "        const buttonEl =\n",
              "          document.querySelector('#df-c82d4ba5-b462-4974-85dc-4632f6faa9ec button.colab-df-convert');\n",
              "        buttonEl.style.display =\n",
              "          google.colab.kernel.accessAllowed ? 'block' : 'none';\n",
              "\n",
              "        async function convertToInteractive(key) {\n",
              "          const element = document.querySelector('#df-c82d4ba5-b462-4974-85dc-4632f6faa9ec');\n",
              "          const dataTable =\n",
              "            await google.colab.kernel.invokeFunction('convertToInteractive',\n",
              "                                                     [key], {});\n",
              "          if (!dataTable) return;\n",
              "\n",
              "          const docLinkHtml = 'Like what you see? Visit the ' +\n",
              "            '<a target=\"_blank\" href=https://colab.research.google.com/notebooks/data_table.ipynb>data table notebook</a>'\n",
              "            + ' to learn more about interactive tables.';\n",
              "          element.innerHTML = '';\n",
              "          dataTable['output_type'] = 'display_data';\n",
              "          await google.colab.output.renderOutput(dataTable, element);\n",
              "          const docLink = document.createElement('div');\n",
              "          docLink.innerHTML = docLinkHtml;\n",
              "          element.appendChild(docLink);\n",
              "        }\n",
              "      </script>\n",
              "    </div>\n",
              "  </div>\n",
              "  "
            ],
            "text/plain": [
              "   name  id  age  weight  height\n",
              "0  ando   1   30      92     178\n",
              "1   ito   2   40      43     172\n",
              "2  kato   3   50      58     155\n",
              "3  sato   4   60      78     168"
            ]
          },
          "metadata": {},
          "execution_count": 51
        }
      ]
    },
    {
      "cell_type": "markdown",
      "metadata": {
        "id": "6xO3fA_5vHJU"
      },
      "source": [
        "次にnumpy.ndarray型に変更します。\n",
        "\n",
        "valuesプロパティを使うと簡単にデータ部分の値をnumpy.ndarray型で取得することができます。"
      ]
    },
    {
      "cell_type": "code",
      "metadata": {
        "id": "VYoi7H73vJ0V",
        "colab": {
          "base_uri": "https://localhost:8080/"
        },
        "outputId": "3c546b20-bb24-4414-a08f-84477ee76d9f"
      },
      "source": [
        "data = data_f1.values\n",
        "data"
      ],
      "execution_count": null,
      "outputs": [
        {
          "output_type": "execute_result",
          "data": {
            "text/plain": [
              "array([['ando', 1, 30, 92, 178],\n",
              "       ['ito', 2, 40, 43, 172],\n",
              "       ['kato', 3, 50, 58, 155],\n",
              "       ['sato', 4, 60, 78, 168]], dtype=object)"
            ]
          },
          "metadata": {},
          "execution_count": 52
        }
      ]
    },
    {
      "cell_type": "markdown",
      "metadata": {
        "id": "OHUB3ekUvVIM"
      },
      "source": [
        "上の方法では値しか取れていませんので、必要に応じてカラムのタイトルを取得します。"
      ]
    },
    {
      "cell_type": "code",
      "metadata": {
        "id": "Tnp8Rr67vXRR",
        "colab": {
          "base_uri": "https://localhost:8080/"
        },
        "outputId": "f138c2c0-3025-4321-a643-3fd11a85773a"
      },
      "source": [
        "columns = data_f1.columns\n",
        "columns"
      ],
      "execution_count": null,
      "outputs": [
        {
          "output_type": "execute_result",
          "data": {
            "text/plain": [
              "Index(['name', 'id', 'age', 'weight', 'height'], dtype='object')"
            ]
          },
          "metadata": {},
          "execution_count": 53
        }
      ]
    },
    {
      "cell_type": "markdown",
      "metadata": {
        "id": "eKy-ruLCvghq"
      },
      "source": [
        "型の確認をします"
      ]
    },
    {
      "cell_type": "code",
      "metadata": {
        "id": "cx819f7dvltp",
        "colab": {
          "base_uri": "https://localhost:8080/"
        },
        "outputId": "c7fcf214-dc25-432c-a158-fb82bd815136"
      },
      "source": [
        "type(data)"
      ],
      "execution_count": null,
      "outputs": [
        {
          "output_type": "execute_result",
          "data": {
            "text/plain": [
              "numpy.ndarray"
            ]
          },
          "metadata": {},
          "execution_count": 54
        }
      ]
    },
    {
      "cell_type": "markdown",
      "metadata": {
        "id": "Yk3d0n41vuhQ"
      },
      "source": [
        "ndarray状態で特定の列のみをスライスします"
      ]
    },
    {
      "cell_type": "code",
      "metadata": {
        "id": "rTyJ4sD-vvke",
        "colab": {
          "base_uri": "https://localhost:8080/"
        },
        "outputId": "76070751-c874-4d55-a139-37bbdf771ce4"
      },
      "source": [
        "features = data[:,:2]\n",
        "features"
      ],
      "execution_count": null,
      "outputs": [
        {
          "output_type": "execute_result",
          "data": {
            "text/plain": [
              "array([['ando', 1],\n",
              "       ['ito', 2],\n",
              "       ['kato', 3],\n",
              "       ['sato', 4]], dtype=object)"
            ]
          },
          "metadata": {},
          "execution_count": 55
        }
      ]
    },
    {
      "cell_type": "markdown",
      "metadata": {
        "id": "PyBGOg2pv9bw"
      },
      "source": [
        "ndarrayのデータをPandasにするには次のようにします。\n",
        "\n",
        "つまり、通常のPandasデータを作成する方法です"
      ]
    },
    {
      "cell_type": "code",
      "metadata": {
        "id": "X3d6Rd__v_ZA",
        "colab": {
          "base_uri": "https://localhost:8080/",
          "height": 174
        },
        "outputId": "0a3e9b48-7430-4f83-caa4-2fe03f731a84"
      },
      "source": [
        "df = pd.DataFrame(data=data,columns=columns)\n",
        "df"
      ],
      "execution_count": null,
      "outputs": [
        {
          "output_type": "execute_result",
          "data": {
            "text/html": [
              "\n",
              "  <div id=\"df-15feddd7-7655-484f-a65d-e6358738d99b\">\n",
              "    <div class=\"colab-df-container\">\n",
              "      <div>\n",
              "<style scoped>\n",
              "    .dataframe tbody tr th:only-of-type {\n",
              "        vertical-align: middle;\n",
              "    }\n",
              "\n",
              "    .dataframe tbody tr th {\n",
              "        vertical-align: top;\n",
              "    }\n",
              "\n",
              "    .dataframe thead th {\n",
              "        text-align: right;\n",
              "    }\n",
              "</style>\n",
              "<table border=\"1\" class=\"dataframe\">\n",
              "  <thead>\n",
              "    <tr style=\"text-align: right;\">\n",
              "      <th></th>\n",
              "      <th>name</th>\n",
              "      <th>id</th>\n",
              "      <th>age</th>\n",
              "      <th>weight</th>\n",
              "      <th>height</th>\n",
              "    </tr>\n",
              "  </thead>\n",
              "  <tbody>\n",
              "    <tr>\n",
              "      <th>0</th>\n",
              "      <td>ando</td>\n",
              "      <td>1</td>\n",
              "      <td>30</td>\n",
              "      <td>92</td>\n",
              "      <td>178</td>\n",
              "    </tr>\n",
              "    <tr>\n",
              "      <th>1</th>\n",
              "      <td>ito</td>\n",
              "      <td>2</td>\n",
              "      <td>40</td>\n",
              "      <td>43</td>\n",
              "      <td>172</td>\n",
              "    </tr>\n",
              "    <tr>\n",
              "      <th>2</th>\n",
              "      <td>kato</td>\n",
              "      <td>3</td>\n",
              "      <td>50</td>\n",
              "      <td>58</td>\n",
              "      <td>155</td>\n",
              "    </tr>\n",
              "    <tr>\n",
              "      <th>3</th>\n",
              "      <td>sato</td>\n",
              "      <td>4</td>\n",
              "      <td>60</td>\n",
              "      <td>78</td>\n",
              "      <td>168</td>\n",
              "    </tr>\n",
              "  </tbody>\n",
              "</table>\n",
              "</div>\n",
              "      <button class=\"colab-df-convert\" onclick=\"convertToInteractive('df-15feddd7-7655-484f-a65d-e6358738d99b')\"\n",
              "              title=\"Convert this dataframe to an interactive table.\"\n",
              "              style=\"display:none;\">\n",
              "        \n",
              "  <svg xmlns=\"http://www.w3.org/2000/svg\" height=\"24px\"viewBox=\"0 0 24 24\"\n",
              "       width=\"24px\">\n",
              "    <path d=\"M0 0h24v24H0V0z\" fill=\"none\"/>\n",
              "    <path d=\"M18.56 5.44l.94 2.06.94-2.06 2.06-.94-2.06-.94-.94-2.06-.94 2.06-2.06.94zm-11 1L8.5 8.5l.94-2.06 2.06-.94-2.06-.94L8.5 2.5l-.94 2.06-2.06.94zm10 10l.94 2.06.94-2.06 2.06-.94-2.06-.94-.94-2.06-.94 2.06-2.06.94z\"/><path d=\"M17.41 7.96l-1.37-1.37c-.4-.4-.92-.59-1.43-.59-.52 0-1.04.2-1.43.59L10.3 9.45l-7.72 7.72c-.78.78-.78 2.05 0 2.83L4 21.41c.39.39.9.59 1.41.59.51 0 1.02-.2 1.41-.59l7.78-7.78 2.81-2.81c.8-.78.8-2.07 0-2.86zM5.41 20L4 18.59l7.72-7.72 1.47 1.35L5.41 20z\"/>\n",
              "  </svg>\n",
              "      </button>\n",
              "      \n",
              "  <style>\n",
              "    .colab-df-container {\n",
              "      display:flex;\n",
              "      flex-wrap:wrap;\n",
              "      gap: 12px;\n",
              "    }\n",
              "\n",
              "    .colab-df-convert {\n",
              "      background-color: #E8F0FE;\n",
              "      border: none;\n",
              "      border-radius: 50%;\n",
              "      cursor: pointer;\n",
              "      display: none;\n",
              "      fill: #1967D2;\n",
              "      height: 32px;\n",
              "      padding: 0 0 0 0;\n",
              "      width: 32px;\n",
              "    }\n",
              "\n",
              "    .colab-df-convert:hover {\n",
              "      background-color: #E2EBFA;\n",
              "      box-shadow: 0px 1px 2px rgba(60, 64, 67, 0.3), 0px 1px 3px 1px rgba(60, 64, 67, 0.15);\n",
              "      fill: #174EA6;\n",
              "    }\n",
              "\n",
              "    [theme=dark] .colab-df-convert {\n",
              "      background-color: #3B4455;\n",
              "      fill: #D2E3FC;\n",
              "    }\n",
              "\n",
              "    [theme=dark] .colab-df-convert:hover {\n",
              "      background-color: #434B5C;\n",
              "      box-shadow: 0px 1px 3px 1px rgba(0, 0, 0, 0.15);\n",
              "      filter: drop-shadow(0px 1px 2px rgba(0, 0, 0, 0.3));\n",
              "      fill: #FFFFFF;\n",
              "    }\n",
              "  </style>\n",
              "\n",
              "      <script>\n",
              "        const buttonEl =\n",
              "          document.querySelector('#df-15feddd7-7655-484f-a65d-e6358738d99b button.colab-df-convert');\n",
              "        buttonEl.style.display =\n",
              "          google.colab.kernel.accessAllowed ? 'block' : 'none';\n",
              "\n",
              "        async function convertToInteractive(key) {\n",
              "          const element = document.querySelector('#df-15feddd7-7655-484f-a65d-e6358738d99b');\n",
              "          const dataTable =\n",
              "            await google.colab.kernel.invokeFunction('convertToInteractive',\n",
              "                                                     [key], {});\n",
              "          if (!dataTable) return;\n",
              "\n",
              "          const docLinkHtml = 'Like what you see? Visit the ' +\n",
              "            '<a target=\"_blank\" href=https://colab.research.google.com/notebooks/data_table.ipynb>data table notebook</a>'\n",
              "            + ' to learn more about interactive tables.';\n",
              "          element.innerHTML = '';\n",
              "          dataTable['output_type'] = 'display_data';\n",
              "          await google.colab.output.renderOutput(dataTable, element);\n",
              "          const docLink = document.createElement('div');\n",
              "          docLink.innerHTML = docLinkHtml;\n",
              "          element.appendChild(docLink);\n",
              "        }\n",
              "      </script>\n",
              "    </div>\n",
              "  </div>\n",
              "  "
            ],
            "text/plain": [
              "   name id age weight height\n",
              "0  ando  1  30     92    178\n",
              "1   ito  2  40     43    172\n",
              "2  kato  3  50     58    155\n",
              "3  sato  4  60     78    168"
            ]
          },
          "metadata": {},
          "execution_count": 56
        }
      ]
    },
    {
      "cell_type": "markdown",
      "metadata": {
        "id": "dJrfyO1Hw8DR"
      },
      "source": [
        "# 機械学習のためのデータ準備 CSVデータの読み込み\n",
        "機械学習をする場合にまずデータを準備しますが、csv形式でデータが準備される場合も多いと思います。\n",
        "\n",
        "データの確認や加工が簡単になるpandas形式で読み込むのがスタンダードになるのでやってみましょう！"
      ]
    },
    {
      "cell_type": "code",
      "metadata": {
        "id": "Y_A8_7V5xNn5"
      },
      "source": [
        "import numpy as np\n",
        "import scipy as sp\n",
        "from pandas import Series, DataFrame\n",
        "import pandas as pd\n",
        "import matplotlib.pyplot as plt\n",
        "import matplotlib as mlp\n",
        "import seaborn as sns\n",
        "import sklearn"
      ],
      "execution_count": null,
      "outputs": []
    },
    {
      "cell_type": "markdown",
      "metadata": {
        "id": "1f5QgBuYxZWp"
      },
      "source": [
        "CSV形式のファイルをpandas形式で読み込むには .read_csv() 関数を使います。\n",
        "\n",
        "ただしこれはカンマ区切りのcsv場合に使用します。タブ区切りの場合は read_table() を使用します。\n",
        "\n",
        "その前に、googleドライブにdataフォルダを作って、その中にsample.csvを入れておきます。\n",
        "\n",
        "ちなみにこんなデータを入れておきます。\n",
        "\n",
        "https://drive.google.com/file/d/1RqFovKQaAGZDaWKsfA8d_Yu1aUnTXWts/view?usp=sharing"
      ]
    },
    {
      "cell_type": "markdown",
      "metadata": {
        "id": "jcg9i1wwzMEO"
      },
      "source": [
        "# ColaboratoryでのGoogle Driveへのマウント\n",
        "以下のプログラムを使うと、drive/My Drive/のなかにgoogle driveのデータがはいります。"
      ]
    },
    {
      "cell_type": "code",
      "metadata": {
        "id": "CZl7-l7wzicM",
        "colab": {
          "base_uri": "https://localhost:8080/"
        },
        "outputId": "c4eed1d6-7c0f-4fde-beab-2aa9e8631fd9"
      },
      "source": [
        "from google.colab import drive\n",
        "drive.mount('/content/drive')"
      ],
      "execution_count": null,
      "outputs": [
        {
          "output_type": "stream",
          "name": "stdout",
          "text": [
            "Mounted at /content/drive\n"
          ]
        }
      ]
    },
    {
      "cell_type": "markdown",
      "metadata": {
        "id": "yqKP79301f3e"
      },
      "source": [
        "認証してない場合は、確認コードをコピーして貼り付けて、認証してください。\n",
        "\n",
        "うまく動かない場合は、下記URLのサンプルプログラムを参考にしてみてください。\n",
        "\n",
        "https://colab.research.google.com/notebooks/io.ipynb\n",
        "\n",
        "先程googleドライブのマイドライブの下にdataというフォルダを作り、その中にsample.csvを入れておいたので、それを呼び出してみましょう。"
      ]
    },
    {
      "cell_type": "code",
      "metadata": {
        "id": "erIEYFTvxi2V"
      },
      "source": [
        "mydata = pd.read_csv('/content/drive/My Drive/data/sample.csv')"
      ],
      "execution_count": null,
      "outputs": []
    },
    {
      "cell_type": "markdown",
      "metadata": {
        "id": "hFPcSr2729sf"
      },
      "source": [
        "型の確認をします"
      ]
    },
    {
      "cell_type": "code",
      "metadata": {
        "id": "zvIMJzVd20LY",
        "colab": {
          "base_uri": "https://localhost:8080/"
        },
        "outputId": "90fb91b6-82c5-48ab-bddf-819db77807fe"
      },
      "source": [
        "type(mydata)"
      ],
      "execution_count": null,
      "outputs": [
        {
          "output_type": "execute_result",
          "data": {
            "text/plain": [
              "pandas.core.frame.DataFrame"
            ]
          },
          "metadata": {},
          "execution_count": 60
        }
      ]
    },
    {
      "cell_type": "markdown",
      "metadata": {
        "id": "_gb1Ur_n3nVG"
      },
      "source": [
        "PandasのDataFrameが作成されましたので、表示してみましょう。"
      ]
    },
    {
      "cell_type": "code",
      "metadata": {
        "id": "N2nrD4Uf3waM",
        "colab": {
          "base_uri": "https://localhost:8080/",
          "height": 206
        },
        "outputId": "fa638123-7bfd-4b5d-f993-bbbabb7f28bf"
      },
      "source": [
        "mydata"
      ],
      "execution_count": null,
      "outputs": [
        {
          "output_type": "execute_result",
          "data": {
            "text/html": [
              "\n",
              "  <div id=\"df-a04928a8-f3eb-46fb-9621-ee02c5c679ea\">\n",
              "    <div class=\"colab-df-container\">\n",
              "      <div>\n",
              "<style scoped>\n",
              "    .dataframe tbody tr th:only-of-type {\n",
              "        vertical-align: middle;\n",
              "    }\n",
              "\n",
              "    .dataframe tbody tr th {\n",
              "        vertical-align: top;\n",
              "    }\n",
              "\n",
              "    .dataframe thead th {\n",
              "        text-align: right;\n",
              "    }\n",
              "</style>\n",
              "<table border=\"1\" class=\"dataframe\">\n",
              "  <thead>\n",
              "    <tr style=\"text-align: right;\">\n",
              "      <th></th>\n",
              "      <th>id</th>\n",
              "      <th>name</th>\n",
              "      <th>math</th>\n",
              "    </tr>\n",
              "  </thead>\n",
              "  <tbody>\n",
              "    <tr>\n",
              "      <th>0</th>\n",
              "      <td>1</td>\n",
              "      <td>a</td>\n",
              "      <td>90</td>\n",
              "    </tr>\n",
              "    <tr>\n",
              "      <th>1</th>\n",
              "      <td>2</td>\n",
              "      <td>b</td>\n",
              "      <td>80</td>\n",
              "    </tr>\n",
              "    <tr>\n",
              "      <th>2</th>\n",
              "      <td>3</td>\n",
              "      <td>c</td>\n",
              "      <td>96</td>\n",
              "    </tr>\n",
              "    <tr>\n",
              "      <th>3</th>\n",
              "      <td>4</td>\n",
              "      <td>d</td>\n",
              "      <td>100</td>\n",
              "    </tr>\n",
              "    <tr>\n",
              "      <th>4</th>\n",
              "      <td>5</td>\n",
              "      <td>e</td>\n",
              "      <td>70</td>\n",
              "    </tr>\n",
              "  </tbody>\n",
              "</table>\n",
              "</div>\n",
              "      <button class=\"colab-df-convert\" onclick=\"convertToInteractive('df-a04928a8-f3eb-46fb-9621-ee02c5c679ea')\"\n",
              "              title=\"Convert this dataframe to an interactive table.\"\n",
              "              style=\"display:none;\">\n",
              "        \n",
              "  <svg xmlns=\"http://www.w3.org/2000/svg\" height=\"24px\"viewBox=\"0 0 24 24\"\n",
              "       width=\"24px\">\n",
              "    <path d=\"M0 0h24v24H0V0z\" fill=\"none\"/>\n",
              "    <path d=\"M18.56 5.44l.94 2.06.94-2.06 2.06-.94-2.06-.94-.94-2.06-.94 2.06-2.06.94zm-11 1L8.5 8.5l.94-2.06 2.06-.94-2.06-.94L8.5 2.5l-.94 2.06-2.06.94zm10 10l.94 2.06.94-2.06 2.06-.94-2.06-.94-.94-2.06-.94 2.06-2.06.94z\"/><path d=\"M17.41 7.96l-1.37-1.37c-.4-.4-.92-.59-1.43-.59-.52 0-1.04.2-1.43.59L10.3 9.45l-7.72 7.72c-.78.78-.78 2.05 0 2.83L4 21.41c.39.39.9.59 1.41.59.51 0 1.02-.2 1.41-.59l7.78-7.78 2.81-2.81c.8-.78.8-2.07 0-2.86zM5.41 20L4 18.59l7.72-7.72 1.47 1.35L5.41 20z\"/>\n",
              "  </svg>\n",
              "      </button>\n",
              "      \n",
              "  <style>\n",
              "    .colab-df-container {\n",
              "      display:flex;\n",
              "      flex-wrap:wrap;\n",
              "      gap: 12px;\n",
              "    }\n",
              "\n",
              "    .colab-df-convert {\n",
              "      background-color: #E8F0FE;\n",
              "      border: none;\n",
              "      border-radius: 50%;\n",
              "      cursor: pointer;\n",
              "      display: none;\n",
              "      fill: #1967D2;\n",
              "      height: 32px;\n",
              "      padding: 0 0 0 0;\n",
              "      width: 32px;\n",
              "    }\n",
              "\n",
              "    .colab-df-convert:hover {\n",
              "      background-color: #E2EBFA;\n",
              "      box-shadow: 0px 1px 2px rgba(60, 64, 67, 0.3), 0px 1px 3px 1px rgba(60, 64, 67, 0.15);\n",
              "      fill: #174EA6;\n",
              "    }\n",
              "\n",
              "    [theme=dark] .colab-df-convert {\n",
              "      background-color: #3B4455;\n",
              "      fill: #D2E3FC;\n",
              "    }\n",
              "\n",
              "    [theme=dark] .colab-df-convert:hover {\n",
              "      background-color: #434B5C;\n",
              "      box-shadow: 0px 1px 3px 1px rgba(0, 0, 0, 0.15);\n",
              "      filter: drop-shadow(0px 1px 2px rgba(0, 0, 0, 0.3));\n",
              "      fill: #FFFFFF;\n",
              "    }\n",
              "  </style>\n",
              "\n",
              "      <script>\n",
              "        const buttonEl =\n",
              "          document.querySelector('#df-a04928a8-f3eb-46fb-9621-ee02c5c679ea button.colab-df-convert');\n",
              "        buttonEl.style.display =\n",
              "          google.colab.kernel.accessAllowed ? 'block' : 'none';\n",
              "\n",
              "        async function convertToInteractive(key) {\n",
              "          const element = document.querySelector('#df-a04928a8-f3eb-46fb-9621-ee02c5c679ea');\n",
              "          const dataTable =\n",
              "            await google.colab.kernel.invokeFunction('convertToInteractive',\n",
              "                                                     [key], {});\n",
              "          if (!dataTable) return;\n",
              "\n",
              "          const docLinkHtml = 'Like what you see? Visit the ' +\n",
              "            '<a target=\"_blank\" href=https://colab.research.google.com/notebooks/data_table.ipynb>data table notebook</a>'\n",
              "            + ' to learn more about interactive tables.';\n",
              "          element.innerHTML = '';\n",
              "          dataTable['output_type'] = 'display_data';\n",
              "          await google.colab.output.renderOutput(dataTable, element);\n",
              "          const docLink = document.createElement('div');\n",
              "          docLink.innerHTML = docLinkHtml;\n",
              "          element.appendChild(docLink);\n",
              "        }\n",
              "      </script>\n",
              "    </div>\n",
              "  </div>\n",
              "  "
            ],
            "text/plain": [
              "   id name  math\n",
              "0   1    a    90\n",
              "1   2    b    80\n",
              "2   3    c    96\n",
              "3   4    d   100\n",
              "4   5    e    70"
            ]
          },
          "metadata": {},
          "execution_count": 61
        }
      ]
    }
  ]
}